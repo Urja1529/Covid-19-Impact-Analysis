{
 "cells": [
  {
   "cell_type": "code",
   "execution_count": null,
   "id": "bbc121bb",
   "metadata": {},
   "outputs": [],
   "source": [
    "import matplotlib.pyplot as plt\n",
    "import plotly.graph_objects as go\n",
    "import plotly.offline as pyo\n",
    "import plotly.express as px\n",
    "import pandas as pd\n",
    "import numpy as np\n",
    "pyo.init_notebook_mode()\n",
    "%matplotlib inline"
   ]
  },
  {
   "cell_type": "code",
   "execution_count": null,
   "id": "5bf913d1",
   "metadata": {},
   "outputs": [],
   "source": [
    "data = pd.read_csv(\"/Users/mahsa/Desktop/3.4/Resources/employment/unemployment.csv\", delimiter= \";\")\n",
    "data.head()"
   ]
  },
  {
   "cell_type": "code",
   "execution_count": null,
   "id": "9da04b19",
   "metadata": {},
   "outputs": [],
   "source": [
    "year_list = [2017, 2018, 2019, 2020, 2021, 2022]"
   ]
  },
  {
   "cell_type": "code",
   "execution_count": null,
   "id": "fa8852af",
   "metadata": {},
   "outputs": [],
   "source": [
    "data2 = data.loc[data[\"Year\"].isin(year_list), :]"
   ]
  },
  {
   "cell_type": "code",
   "execution_count": null,
   "id": "9c2c88f9",
   "metadata": {},
   "outputs": [],
   "source": [
    "state_list = ['Alabama', 'Alaska', 'Arizona', 'Arkansas', 'California',\n",
    "       'Colorado', 'Connecticut', 'Delaware', 'Florida', 'Georgia',\n",
    "       'Hawaii', 'Idaho', 'Illinois', 'Indiana', 'Iowa', 'Kansas',\n",
    "       'Kentucky', 'Louisiana', 'Maine', 'Maryland', 'Massachusetts',\n",
    "       'Michigan', 'Minnesota', 'Mississippi', 'Missouri', 'Montana',\n",
    "       'Nebraska', 'Nevada', 'New Hampshire', 'New Jersey', 'New Mexico',\n",
    "       'New York', 'North Carolina', 'North Dakota', 'Ohio', 'Oklahoma',\n",
    "       'Oregon', 'Pennsylvania', 'Rhode Island', 'South Carolina',\n",
    "       'South Dakota', 'Tennessee', 'Texas', 'Utah', 'Vermont',\n",
    "       'Virginia', 'Washington', 'West Virginia', 'Wisconsin', 'Wyoming']"
   ]
  },
  {
   "cell_type": "code",
   "execution_count": null,
   "id": "55e234ae",
   "metadata": {},
   "outputs": [],
   "source": [
    "data2 = data2.loc[data[\"State and area\"].isin(state_list), :]"
   ]
  },
  {
   "cell_type": "code",
   "execution_count": null,
   "id": "b9c01304",
   "metadata": {},
   "outputs": [],
   "source": [
    "target = pd.DataFrame({\"Geo Name\":state_list, 2017:\"\", 2018:\"\", 2019:\"\", 2020:\"\", 2021:\"\", 2022:\"\"})"
   ]
  },
  {
   "cell_type": "code",
   "execution_count": null,
   "id": "3f232727",
   "metadata": {},
   "outputs": [],
   "source": [
    "target[2017] = data2.loc[data2[\"Year\"]==2017, :].groupby(\"State and area\")[\"Employment\"].sum().values\n",
    "\n",
    "target[2018] = data2.loc[data2[\"Year\"]==2018, :].groupby(\"State and area\")[\"Employment\"].sum().values\n",
    "\n",
    "target[2019] = data2.loc[data2[\"Year\"]==2019, :].groupby(\"State and area\")[\"Employment\"].sum().values\n",
    "\n",
    "target[2020] = data2.loc[data2[\"Year\"]==2020, :].groupby(\"State and area\")[\"Employment\"].sum().values\n",
    "\n",
    "target[2021] = data2.loc[data2[\"Year\"]==2021, :].groupby(\"State and area\")[\"Employment\"].sum().values\n",
    "\n",
    "target[2022] = data2.loc[data2[\"Year\"]==2022, :].groupby(\"State and area\")[\"Employment\"].sum().values"
   ]
  },
  {
   "cell_type": "code",
   "execution_count": null,
   "id": "14f8f591",
   "metadata": {},
   "outputs": [
    {
     "data": {
      "text/plain": [
       "Index(['Geo Name', 2017, 2018, 2019, 2020, 2021, 2022], dtype='object')"
      ]
     },
     "execution_count": 9,
     "metadata": {},
     "output_type": "execute_result"
    }
   ],
   "source": [
    "New_England = [\"Connecticut\", \"Maine\", \"Massachusetts\", \"New Hampshire\", \"Rhode Island\", \"Vermont\"]\n",
    "Mideast =  [\"Delaware\", \"Maryland\", \"New Jersey\", \"New York\", \"Pennsylvania\"]\n",
    "Great_Lakes = [\"Illinois\", \"Indiana\", \"Michigan\", \"Ohio\",  \"Wisconsin\"]\n",
    "Plains =  [\"Iowa\", \"Kansas\", \"Minnesota\", \"Missouri\", \"Nebraska\", \"North Dakota\", \"South Dakota\"]\n",
    "Southeast =  [\"Alabama\", \"Arkansas\", \"Florida\", \"Georgia\", \"Kentucky\", \"Louisiana\", \"Mississippi\", \"North Carolina\", \"South Carolina\", \"Tennessee\", \"Virginia\", \"West Virginia\"]\n",
    "Southwest =  [\"Arizona\", \"New Mexico\", \"Oklahoma\", \"Texas\"]\n",
    "Rocky_Mountain =  [\"Colorado\", \"Idaho\", \"Montana\", \"Utah\", \"Wyoming\"]\n",
    "Far_West =  [\"Alaska\", \"California\", \"Hawaii\", \"Nevada\", \"Oregon\", \"Washington\"]\n",
    "target.columns"
   ]
  },
  {
   "cell_type": "code",
   "execution_count": 10,
   "id": "f25578bf",
   "metadata": {
    "scrolled": true
   },
   "outputs": [
    {
     "data": {
      "text/html": [
       "<div>\n",
       "<style scoped>\n",
       "    .dataframe tbody tr th:only-of-type {\n",
       "        vertical-align: middle;\n",
       "    }\n",
       "\n",
       "    .dataframe tbody tr th {\n",
       "        vertical-align: top;\n",
       "    }\n",
       "\n",
       "    .dataframe thead th {\n",
       "        text-align: right;\n",
       "    }\n",
       "</style>\n",
       "<table border=\"1\" class=\"dataframe\">\n",
       "  <thead>\n",
       "    <tr style=\"text-align: right;\">\n",
       "      <th></th>\n",
       "      <th>Geo Name</th>\n",
       "      <th>2017</th>\n",
       "      <th>2018</th>\n",
       "      <th>2019</th>\n",
       "      <th>2020</th>\n",
       "      <th>2021</th>\n",
       "      <th>2022</th>\n",
       "      <th>code</th>\n",
       "      <th>Before</th>\n",
       "      <th>During</th>\n",
       "      <th>After</th>\n",
       "      <th>Total Mean</th>\n",
       "      <th>pre-during delta</th>\n",
       "      <th>during-after delta</th>\n",
       "    </tr>\n",
       "  </thead>\n",
       "  <tbody>\n",
       "    <tr>\n",
       "      <th>0</th>\n",
       "      <td>Alabama</td>\n",
       "      <td>2.524488e+07</td>\n",
       "      <td>2.582212e+07</td>\n",
       "      <td>2.640015e+07</td>\n",
       "      <td>2.549138e+07</td>\n",
       "      <td>2.619800e+07</td>\n",
       "      <td>2.672025e+07</td>\n",
       "      <td>AL</td>\n",
       "      <td>2.611113e+07</td>\n",
       "      <td>2.584469e+07</td>\n",
       "      <td>2.672025e+07</td>\n",
       "      <td>3.117536e+07</td>\n",
       "      <td>-0.010204</td>\n",
       "      <td>0.033878</td>\n",
       "    </tr>\n",
       "    <tr>\n",
       "      <th>1</th>\n",
       "      <td>Alaska</td>\n",
       "      <td>4.044968e+03</td>\n",
       "      <td>4.008155e+03</td>\n",
       "      <td>4.001235e+03</td>\n",
       "      <td>3.817886e+03</td>\n",
       "      <td>3.965907e+03</td>\n",
       "      <td>4.108677e+03</td>\n",
       "      <td>AK</td>\n",
       "      <td>4.004695e+03</td>\n",
       "      <td>3.891896e+03</td>\n",
       "      <td>4.108677e+03</td>\n",
       "      <td>4.789366e+03</td>\n",
       "      <td>-0.028167</td>\n",
       "      <td>0.055700</td>\n",
       "    </tr>\n",
       "    <tr>\n",
       "      <th>2</th>\n",
       "      <td>Arizona</td>\n",
       "      <td>3.695103e+07</td>\n",
       "      <td>3.798921e+07</td>\n",
       "      <td>3.919274e+07</td>\n",
       "      <td>3.838481e+07</td>\n",
       "      <td>4.023067e+07</td>\n",
       "      <td>4.170957e+07</td>\n",
       "      <td>AZ</td>\n",
       "      <td>3.859097e+07</td>\n",
       "      <td>3.930774e+07</td>\n",
       "      <td>4.170957e+07</td>\n",
       "      <td>4.689161e+07</td>\n",
       "      <td>0.018573</td>\n",
       "      <td>0.061103</td>\n",
       "    </tr>\n",
       "    <tr>\n",
       "      <th>3</th>\n",
       "      <td>Arkansas</td>\n",
       "      <td>1.557290e+07</td>\n",
       "      <td>1.553656e+07</td>\n",
       "      <td>1.568699e+07</td>\n",
       "      <td>1.516322e+07</td>\n",
       "      <td>1.542636e+07</td>\n",
       "      <td>1.588709e+07</td>\n",
       "      <td>AR</td>\n",
       "      <td>1.561178e+07</td>\n",
       "      <td>1.529479e+07</td>\n",
       "      <td>1.588709e+07</td>\n",
       "      <td>1.865462e+07</td>\n",
       "      <td>-0.020305</td>\n",
       "      <td>0.038726</td>\n",
       "    </tr>\n",
       "    <tr>\n",
       "      <th>4</th>\n",
       "      <td>California</td>\n",
       "      <td>2.190675e+08</td>\n",
       "      <td>2.216071e+08</td>\n",
       "      <td>2.234436e+08</td>\n",
       "      <td>2.045019e+08</td>\n",
       "      <td>2.110558e+08</td>\n",
       "      <td>2.212555e+08</td>\n",
       "      <td>CA</td>\n",
       "      <td>2.225254e+08</td>\n",
       "      <td>2.077788e+08</td>\n",
       "      <td>2.212555e+08</td>\n",
       "      <td>2.601863e+08</td>\n",
       "      <td>-0.066269</td>\n",
       "      <td>0.064860</td>\n",
       "    </tr>\n",
       "    <tr>\n",
       "      <th>5</th>\n",
       "      <td>Colorado</td>\n",
       "      <td>3.462597e+07</td>\n",
       "      <td>3.553517e+07</td>\n",
       "      <td>3.627624e+07</td>\n",
       "      <td>3.455031e+07</td>\n",
       "      <td>3.583876e+07</td>\n",
       "      <td>3.724082e+07</td>\n",
       "      <td>CO</td>\n",
       "      <td>3.590570e+07</td>\n",
       "      <td>3.519454e+07</td>\n",
       "      <td>3.724082e+07</td>\n",
       "      <td>4.281345e+07</td>\n",
       "      <td>-0.019807</td>\n",
       "      <td>0.058142</td>\n",
       "    </tr>\n",
       "    <tr>\n",
       "      <th>6</th>\n",
       "      <td>Connecticut</td>\n",
       "      <td>2.206079e+07</td>\n",
       "      <td>2.218630e+07</td>\n",
       "      <td>2.242874e+07</td>\n",
       "      <td>2.080636e+07</td>\n",
       "      <td>2.086931e+07</td>\n",
       "      <td>2.223153e+07</td>\n",
       "      <td>CT</td>\n",
       "      <td>2.230752e+07</td>\n",
       "      <td>2.083784e+07</td>\n",
       "      <td>2.223153e+07</td>\n",
       "      <td>2.611661e+07</td>\n",
       "      <td>-0.065883</td>\n",
       "      <td>0.066883</td>\n",
       "    </tr>\n",
       "    <tr>\n",
       "      <th>7</th>\n",
       "      <td>Delaware</td>\n",
       "      <td>5.447235e+03</td>\n",
       "      <td>5.549219e+03</td>\n",
       "      <td>5.605708e+03</td>\n",
       "      <td>5.398454e+03</td>\n",
       "      <td>5.602624e+03</td>\n",
       "      <td>5.691896e+03</td>\n",
       "      <td>DE</td>\n",
       "      <td>5.577463e+03</td>\n",
       "      <td>5.500539e+03</td>\n",
       "      <td>5.691896e+03</td>\n",
       "      <td>6.659027e+03</td>\n",
       "      <td>-0.013792</td>\n",
       "      <td>0.034789</td>\n",
       "    </tr>\n",
       "    <tr>\n",
       "      <th>8</th>\n",
       "      <td>Florida</td>\n",
       "      <td>1.145260e+08</td>\n",
       "      <td>1.169783e+08</td>\n",
       "      <td>1.194344e+08</td>\n",
       "      <td>1.114607e+08</td>\n",
       "      <td>1.184789e+08</td>\n",
       "      <td>1.253605e+08</td>\n",
       "      <td>FL</td>\n",
       "      <td>1.182063e+08</td>\n",
       "      <td>1.149698e+08</td>\n",
       "      <td>1.253605e+08</td>\n",
       "      <td>1.412478e+08</td>\n",
       "      <td>-0.027380</td>\n",
       "      <td>0.090378</td>\n",
       "    </tr>\n",
       "    <tr>\n",
       "      <th>9</th>\n",
       "      <td>Georgia</td>\n",
       "      <td>5.837343e+07</td>\n",
       "      <td>5.905961e+07</td>\n",
       "      <td>5.971749e+07</td>\n",
       "      <td>5.718442e+07</td>\n",
       "      <td>5.974344e+07</td>\n",
       "      <td>6.088954e+07</td>\n",
       "      <td>GA</td>\n",
       "      <td>5.938855e+07</td>\n",
       "      <td>5.846393e+07</td>\n",
       "      <td>6.088954e+07</td>\n",
       "      <td>7.099359e+07</td>\n",
       "      <td>-0.015569</td>\n",
       "      <td>0.041489</td>\n",
       "    </tr>\n",
       "    <tr>\n",
       "      <th>10</th>\n",
       "      <td>Hawaii</td>\n",
       "      <td>8.157988e+03</td>\n",
       "      <td>8.107904e+03</td>\n",
       "      <td>8.027076e+03</td>\n",
       "      <td>7.030564e+03</td>\n",
       "      <td>7.556735e+03</td>\n",
       "      <td>7.833835e+03</td>\n",
       "      <td>HI</td>\n",
       "      <td>8.067490e+03</td>\n",
       "      <td>7.293649e+03</td>\n",
       "      <td>7.833835e+03</td>\n",
       "      <td>9.342820e+03</td>\n",
       "      <td>-0.095921</td>\n",
       "      <td>0.074062</td>\n",
       "    </tr>\n",
       "    <tr>\n",
       "      <th>11</th>\n",
       "      <td>Idaho</td>\n",
       "      <td>9.752117e+03</td>\n",
       "      <td>1.005250e+04</td>\n",
       "      <td>1.035717e+04</td>\n",
       "      <td>1.022590e+04</td>\n",
       "      <td>1.071967e+04</td>\n",
       "      <td>1.110181e+04</td>\n",
       "      <td>ID</td>\n",
       "      <td>1.020483e+04</td>\n",
       "      <td>1.047279e+04</td>\n",
       "      <td>1.110181e+04</td>\n",
       "      <td>1.244183e+04</td>\n",
       "      <td>0.026257</td>\n",
       "      <td>0.060063</td>\n",
       "    </tr>\n",
       "    <tr>\n",
       "      <th>12</th>\n",
       "      <td>Illinois</td>\n",
       "      <td>7.483919e+07</td>\n",
       "      <td>7.524730e+07</td>\n",
       "      <td>7.547103e+07</td>\n",
       "      <td>6.908118e+07</td>\n",
       "      <td>7.177863e+07</td>\n",
       "      <td>7.413713e+07</td>\n",
       "      <td>IL</td>\n",
       "      <td>7.535916e+07</td>\n",
       "      <td>7.042990e+07</td>\n",
       "      <td>7.413713e+07</td>\n",
       "      <td>8.811089e+07</td>\n",
       "      <td>-0.065410</td>\n",
       "      <td>0.052637</td>\n",
       "    </tr>\n",
       "    <tr>\n",
       "      <th>13</th>\n",
       "      <td>Indiana</td>\n",
       "      <td>3.859686e+07</td>\n",
       "      <td>3.932667e+07</td>\n",
       "      <td>3.949430e+07</td>\n",
       "      <td>3.721664e+07</td>\n",
       "      <td>3.870878e+07</td>\n",
       "      <td>3.963474e+07</td>\n",
       "      <td>IN</td>\n",
       "      <td>3.941048e+07</td>\n",
       "      <td>3.796271e+07</td>\n",
       "      <td>3.963474e+07</td>\n",
       "      <td>4.659559e+07</td>\n",
       "      <td>-0.036736</td>\n",
       "      <td>0.044044</td>\n",
       "    </tr>\n",
       "    <tr>\n",
       "      <th>14</th>\n",
       "      <td>Iowa</td>\n",
       "      <td>1.974755e+07</td>\n",
       "      <td>2.001141e+07</td>\n",
       "      <td>2.036063e+07</td>\n",
       "      <td>1.904273e+07</td>\n",
       "      <td>1.951920e+07</td>\n",
       "      <td>2.003993e+07</td>\n",
       "      <td>IA</td>\n",
       "      <td>2.018602e+07</td>\n",
       "      <td>1.928096e+07</td>\n",
       "      <td>2.003993e+07</td>\n",
       "      <td>2.374429e+07</td>\n",
       "      <td>-0.044836</td>\n",
       "      <td>0.039364</td>\n",
       "    </tr>\n",
       "    <tr>\n",
       "      <th>15</th>\n",
       "      <td>Kansas</td>\n",
       "      <td>1.721282e+07</td>\n",
       "      <td>1.731665e+07</td>\n",
       "      <td>1.746442e+07</td>\n",
       "      <td>1.698040e+07</td>\n",
       "      <td>1.741736e+07</td>\n",
       "      <td>1.757670e+07</td>\n",
       "      <td>KS</td>\n",
       "      <td>1.739053e+07</td>\n",
       "      <td>1.719888e+07</td>\n",
       "      <td>1.757670e+07</td>\n",
       "      <td>2.079367e+07</td>\n",
       "      <td>-0.011020</td>\n",
       "      <td>0.021968</td>\n",
       "    </tr>\n",
       "    <tr>\n",
       "      <th>16</th>\n",
       "      <td>Kentucky</td>\n",
       "      <td>2.345782e+07</td>\n",
       "      <td>2.359287e+07</td>\n",
       "      <td>2.380429e+07</td>\n",
       "      <td>2.263181e+07</td>\n",
       "      <td>2.324495e+07</td>\n",
       "      <td>2.362856e+07</td>\n",
       "      <td>KY</td>\n",
       "      <td>2.369858e+07</td>\n",
       "      <td>2.293838e+07</td>\n",
       "      <td>2.362856e+07</td>\n",
       "      <td>2.807206e+07</td>\n",
       "      <td>-0.032078</td>\n",
       "      <td>0.030089</td>\n",
       "    </tr>\n",
       "    <tr>\n",
       "      <th>17</th>\n",
       "      <td>Louisiana</td>\n",
       "      <td>2.400053e+07</td>\n",
       "      <td>2.409128e+07</td>\n",
       "      <td>2.409626e+07</td>\n",
       "      <td>2.263933e+07</td>\n",
       "      <td>2.350477e+07</td>\n",
       "      <td>2.413703e+07</td>\n",
       "      <td>LA</td>\n",
       "      <td>2.409377e+07</td>\n",
       "      <td>2.307205e+07</td>\n",
       "      <td>2.413703e+07</td>\n",
       "      <td>2.849384e+07</td>\n",
       "      <td>-0.042406</td>\n",
       "      <td>0.046159</td>\n",
       "    </tr>\n",
       "    <tr>\n",
       "      <th>18</th>\n",
       "      <td>Maine</td>\n",
       "      <td>8.160982e+03</td>\n",
       "      <td>8.142467e+03</td>\n",
       "      <td>8.129890e+03</td>\n",
       "      <td>7.638796e+03</td>\n",
       "      <td>7.840156e+03</td>\n",
       "      <td>7.862586e+03</td>\n",
       "      <td>ME</td>\n",
       "      <td>8.136178e+03</td>\n",
       "      <td>7.739476e+03</td>\n",
       "      <td>7.862586e+03</td>\n",
       "      <td>9.554975e+03</td>\n",
       "      <td>-0.048758</td>\n",
       "      <td>0.015907</td>\n",
       "    </tr>\n",
       "    <tr>\n",
       "      <th>19</th>\n",
       "      <td>Maryland</td>\n",
       "      <td>3.737282e+07</td>\n",
       "      <td>3.775188e+07</td>\n",
       "      <td>3.865623e+07</td>\n",
       "      <td>3.636196e+07</td>\n",
       "      <td>3.606727e+07</td>\n",
       "      <td>3.681642e+07</td>\n",
       "      <td>MD</td>\n",
       "      <td>3.820405e+07</td>\n",
       "      <td>3.621461e+07</td>\n",
       "      <td>3.681642e+07</td>\n",
       "      <td>4.460532e+07</td>\n",
       "      <td>-0.052074</td>\n",
       "      <td>0.016618</td>\n",
       "    </tr>\n",
       "    <tr>\n",
       "      <th>20</th>\n",
       "      <td>Massachusetts</td>\n",
       "      <td>4.298534e+07</td>\n",
       "      <td>4.422717e+07</td>\n",
       "      <td>4.470498e+07</td>\n",
       "      <td>4.077528e+07</td>\n",
       "      <td>4.243660e+07</td>\n",
       "      <td>4.324722e+07</td>\n",
       "      <td>MA</td>\n",
       "      <td>4.446607e+07</td>\n",
       "      <td>4.160594e+07</td>\n",
       "      <td>4.324722e+07</td>\n",
       "      <td>5.167532e+07</td>\n",
       "      <td>-0.064322</td>\n",
       "      <td>0.039448</td>\n",
       "    </tr>\n",
       "    <tr>\n",
       "      <th>21</th>\n",
       "      <td>Michigan</td>\n",
       "      <td>5.622410e+07</td>\n",
       "      <td>5.686158e+07</td>\n",
       "      <td>5.728413e+07</td>\n",
       "      <td>5.252451e+07</td>\n",
       "      <td>5.402112e+07</td>\n",
       "      <td>5.560046e+07</td>\n",
       "      <td>MI</td>\n",
       "      <td>5.707285e+07</td>\n",
       "      <td>5.327281e+07</td>\n",
       "      <td>5.560046e+07</td>\n",
       "      <td>6.650318e+07</td>\n",
       "      <td>-0.066582</td>\n",
       "      <td>0.043693</td>\n",
       "    </tr>\n",
       "    <tr>\n",
       "      <th>22</th>\n",
       "      <td>Minnesota</td>\n",
       "      <td>3.556042e+07</td>\n",
       "      <td>3.578368e+07</td>\n",
       "      <td>3.609681e+07</td>\n",
       "      <td>3.523353e+07</td>\n",
       "      <td>3.509594e+07</td>\n",
       "      <td>3.594759e+07</td>\n",
       "      <td>MN</td>\n",
       "      <td>3.594025e+07</td>\n",
       "      <td>3.516474e+07</td>\n",
       "      <td>3.594759e+07</td>\n",
       "      <td>4.274360e+07</td>\n",
       "      <td>-0.021578</td>\n",
       "      <td>0.022262</td>\n",
       "    </tr>\n",
       "    <tr>\n",
       "      <th>23</th>\n",
       "      <td>Mississippi</td>\n",
       "      <td>1.447062e+07</td>\n",
       "      <td>1.445959e+07</td>\n",
       "      <td>1.449649e+07</td>\n",
       "      <td>1.376528e+07</td>\n",
       "      <td>1.424419e+07</td>\n",
       "      <td>1.442981e+07</td>\n",
       "      <td>MS</td>\n",
       "      <td>1.447804e+07</td>\n",
       "      <td>1.400473e+07</td>\n",
       "      <td>1.442981e+07</td>\n",
       "      <td>1.717320e+07</td>\n",
       "      <td>-0.032692</td>\n",
       "      <td>0.030352</td>\n",
       "    </tr>\n",
       "    <tr>\n",
       "      <th>24</th>\n",
       "      <td>Missouri</td>\n",
       "      <td>3.526968e+07</td>\n",
       "      <td>3.539732e+07</td>\n",
       "      <td>3.570952e+07</td>\n",
       "      <td>3.421436e+07</td>\n",
       "      <td>3.510709e+07</td>\n",
       "      <td>3.580788e+07</td>\n",
       "      <td>MO</td>\n",
       "      <td>3.555342e+07</td>\n",
       "      <td>3.466073e+07</td>\n",
       "      <td>3.580788e+07</td>\n",
       "      <td>4.230117e+07</td>\n",
       "      <td>-0.025109</td>\n",
       "      <td>0.033097</td>\n",
       "    </tr>\n",
       "    <tr>\n",
       "      <th>25</th>\n",
       "      <td>Montana</td>\n",
       "      <td>6.081941e+03</td>\n",
       "      <td>6.181102e+03</td>\n",
       "      <td>6.297789e+03</td>\n",
       "      <td>6.160245e+03</td>\n",
       "      <td>6.383649e+03</td>\n",
       "      <td>6.634098e+03</td>\n",
       "      <td>MT</td>\n",
       "      <td>6.239445e+03</td>\n",
       "      <td>6.271947e+03</td>\n",
       "      <td>6.634098e+03</td>\n",
       "      <td>7.547765e+03</td>\n",
       "      <td>0.005209</td>\n",
       "      <td>0.057741</td>\n",
       "    </tr>\n",
       "    <tr>\n",
       "      <th>26</th>\n",
       "      <td>Nebraska</td>\n",
       "      <td>1.191236e+04</td>\n",
       "      <td>1.107585e+07</td>\n",
       "      <td>1.222575e+07</td>\n",
       "      <td>8.109089e+06</td>\n",
       "      <td>1.225694e+07</td>\n",
       "      <td>1.240904e+07</td>\n",
       "      <td>NE</td>\n",
       "      <td>1.165080e+07</td>\n",
       "      <td>1.018301e+07</td>\n",
       "      <td>1.240904e+07</td>\n",
       "      <td>1.121772e+07</td>\n",
       "      <td>-0.125982</td>\n",
       "      <td>0.218602</td>\n",
       "    </tr>\n",
       "    <tr>\n",
       "      <th>27</th>\n",
       "      <td>Nevada</td>\n",
       "      <td>1.646210e+07</td>\n",
       "      <td>1.715035e+07</td>\n",
       "      <td>1.779372e+07</td>\n",
       "      <td>1.562978e+07</td>\n",
       "      <td>1.674970e+07</td>\n",
       "      <td>1.759721e+07</td>\n",
       "      <td>NV</td>\n",
       "      <td>1.747204e+07</td>\n",
       "      <td>1.618974e+07</td>\n",
       "      <td>1.759721e+07</td>\n",
       "      <td>2.027657e+07</td>\n",
       "      <td>-0.073391</td>\n",
       "      <td>0.086936</td>\n",
       "    </tr>\n",
       "    <tr>\n",
       "      <th>28</th>\n",
       "      <td>New Hampshire</td>\n",
       "      <td>8.842803e+03</td>\n",
       "      <td>9.001539e+03</td>\n",
       "      <td>9.125302e+03</td>\n",
       "      <td>8.556742e+03</td>\n",
       "      <td>8.773638e+03</td>\n",
       "      <td>8.968872e+03</td>\n",
       "      <td>NH</td>\n",
       "      <td>9.063421e+03</td>\n",
       "      <td>8.665190e+03</td>\n",
       "      <td>8.968872e+03</td>\n",
       "      <td>1.065378e+04</td>\n",
       "      <td>-0.043938</td>\n",
       "      <td>0.035046</td>\n",
       "    </tr>\n",
       "    <tr>\n",
       "      <th>29</th>\n",
       "      <td>New Jersey</td>\n",
       "      <td>5.286773e+07</td>\n",
       "      <td>5.304204e+07</td>\n",
       "      <td>5.429676e+07</td>\n",
       "      <td>5.053151e+07</td>\n",
       "      <td>5.228448e+07</td>\n",
       "      <td>5.478531e+07</td>\n",
       "      <td>NJ</td>\n",
       "      <td>5.366940e+07</td>\n",
       "      <td>5.140799e+07</td>\n",
       "      <td>5.478531e+07</td>\n",
       "      <td>6.356157e+07</td>\n",
       "      <td>-0.042136</td>\n",
       "      <td>0.065696</td>\n",
       "    </tr>\n",
       "    <tr>\n",
       "      <th>30</th>\n",
       "      <td>New Mexico</td>\n",
       "      <td>1.069054e+04</td>\n",
       "      <td>1.077884e+04</td>\n",
       "      <td>1.090463e+04</td>\n",
       "      <td>1.029514e+04</td>\n",
       "      <td>1.052102e+04</td>\n",
       "      <td>1.090704e+04</td>\n",
       "      <td>NM</td>\n",
       "      <td>1.084173e+04</td>\n",
       "      <td>1.040808e+04</td>\n",
       "      <td>1.090704e+04</td>\n",
       "      <td>1.281944e+04</td>\n",
       "      <td>-0.039998</td>\n",
       "      <td>0.047940</td>\n",
       "    </tr>\n",
       "    <tr>\n",
       "      <th>31</th>\n",
       "      <td>New York</td>\n",
       "      <td>1.125836e+08</td>\n",
       "      <td>1.130638e+08</td>\n",
       "      <td>1.137310e+08</td>\n",
       "      <td>1.036665e+08</td>\n",
       "      <td>1.066748e+08</td>\n",
       "      <td>1.104948e+08</td>\n",
       "      <td>NY</td>\n",
       "      <td>1.133974e+08</td>\n",
       "      <td>1.051706e+08</td>\n",
       "      <td>1.104948e+08</td>\n",
       "      <td>1.320429e+08</td>\n",
       "      <td>-0.072548</td>\n",
       "      <td>0.050624</td>\n",
       "    </tr>\n",
       "    <tr>\n",
       "      <th>32</th>\n",
       "      <td>North Carolina</td>\n",
       "      <td>5.575216e+07</td>\n",
       "      <td>5.659135e+07</td>\n",
       "      <td>5.760638e+07</td>\n",
       "      <td>5.387420e+07</td>\n",
       "      <td>5.656142e+07</td>\n",
       "      <td>5.965823e+07</td>\n",
       "      <td>NC</td>\n",
       "      <td>5.709887e+07</td>\n",
       "      <td>5.521781e+07</td>\n",
       "      <td>5.965823e+07</td>\n",
       "      <td>6.800875e+07</td>\n",
       "      <td>-0.032944</td>\n",
       "      <td>0.080416</td>\n",
       "    </tr>\n",
       "    <tr>\n",
       "      <th>33</th>\n",
       "      <td>North Dakota</td>\n",
       "      <td>4.858854e+03</td>\n",
       "      <td>4.826043e+03</td>\n",
       "      <td>4.856936e+03</td>\n",
       "      <td>4.672396e+03</td>\n",
       "      <td>4.756712e+03</td>\n",
       "      <td>4.867037e+03</td>\n",
       "      <td>ND</td>\n",
       "      <td>4.841489e+03</td>\n",
       "      <td>4.714554e+03</td>\n",
       "      <td>4.867037e+03</td>\n",
       "      <td>5.767596e+03</td>\n",
       "      <td>-0.026218</td>\n",
       "      <td>0.032343</td>\n",
       "    </tr>\n",
       "    <tr>\n",
       "      <th>34</th>\n",
       "      <td>Ohio</td>\n",
       "      <td>6.634048e+07</td>\n",
       "      <td>6.670455e+07</td>\n",
       "      <td>6.759990e+07</td>\n",
       "      <td>6.333582e+07</td>\n",
       "      <td>6.522439e+07</td>\n",
       "      <td>6.614043e+07</td>\n",
       "      <td>OH</td>\n",
       "      <td>6.715223e+07</td>\n",
       "      <td>6.428011e+07</td>\n",
       "      <td>6.614043e+07</td>\n",
       "      <td>7.906912e+07</td>\n",
       "      <td>-0.042770</td>\n",
       "      <td>0.028941</td>\n",
       "    </tr>\n",
       "    <tr>\n",
       "      <th>35</th>\n",
       "      <td>Oklahoma</td>\n",
       "      <td>2.103448e+07</td>\n",
       "      <td>2.124984e+07</td>\n",
       "      <td>2.138828e+07</td>\n",
       "      <td>2.070050e+07</td>\n",
       "      <td>2.143152e+07</td>\n",
       "      <td>2.195404e+07</td>\n",
       "      <td>OK</td>\n",
       "      <td>2.131906e+07</td>\n",
       "      <td>2.106601e+07</td>\n",
       "      <td>2.195404e+07</td>\n",
       "      <td>2.555173e+07</td>\n",
       "      <td>-0.011870</td>\n",
       "      <td>0.042155</td>\n",
       "    </tr>\n",
       "    <tr>\n",
       "      <th>36</th>\n",
       "      <td>Oregon</td>\n",
       "      <td>2.390425e+07</td>\n",
       "      <td>2.396066e+07</td>\n",
       "      <td>2.419767e+07</td>\n",
       "      <td>2.335897e+07</td>\n",
       "      <td>2.444001e+07</td>\n",
       "      <td>2.502782e+07</td>\n",
       "      <td>OR</td>\n",
       "      <td>2.407916e+07</td>\n",
       "      <td>2.389949e+07</td>\n",
       "      <td>2.502782e+07</td>\n",
       "      <td>2.897788e+07</td>\n",
       "      <td>-0.007462</td>\n",
       "      <td>0.047211</td>\n",
       "    </tr>\n",
       "    <tr>\n",
       "      <th>37</th>\n",
       "      <td>Pennsylvania</td>\n",
       "      <td>7.393117e+07</td>\n",
       "      <td>7.465985e+07</td>\n",
       "      <td>7.545728e+07</td>\n",
       "      <td>7.117672e+07</td>\n",
       "      <td>7.271593e+07</td>\n",
       "      <td>7.434553e+07</td>\n",
       "      <td>PA</td>\n",
       "      <td>7.505856e+07</td>\n",
       "      <td>7.194632e+07</td>\n",
       "      <td>7.434553e+07</td>\n",
       "      <td>8.845730e+07</td>\n",
       "      <td>-0.041464</td>\n",
       "      <td>0.033347</td>\n",
       "    </tr>\n",
       "    <tr>\n",
       "      <th>38</th>\n",
       "      <td>Rhode Island</td>\n",
       "      <td>6.509224e+03</td>\n",
       "      <td>6.594236e+03</td>\n",
       "      <td>6.648574e+03</td>\n",
       "      <td>6.214041e+03</td>\n",
       "      <td>6.481343e+03</td>\n",
       "      <td>6.619429e+03</td>\n",
       "      <td>RI</td>\n",
       "      <td>6.621405e+03</td>\n",
       "      <td>6.347692e+03</td>\n",
       "      <td>6.619429e+03</td>\n",
       "      <td>7.813369e+03</td>\n",
       "      <td>-0.041338</td>\n",
       "      <td>0.042809</td>\n",
       "    </tr>\n",
       "    <tr>\n",
       "      <th>39</th>\n",
       "      <td>South Carolina</td>\n",
       "      <td>2.600111e+07</td>\n",
       "      <td>2.645691e+07</td>\n",
       "      <td>2.712046e+07</td>\n",
       "      <td>2.633408e+07</td>\n",
       "      <td>2.713603e+07</td>\n",
       "      <td>2.757391e+07</td>\n",
       "      <td>SC</td>\n",
       "      <td>2.678868e+07</td>\n",
       "      <td>2.673506e+07</td>\n",
       "      <td>2.757391e+07</td>\n",
       "      <td>3.212450e+07</td>\n",
       "      <td>-0.002002</td>\n",
       "      <td>0.031376</td>\n",
       "    </tr>\n",
       "    <tr>\n",
       "      <th>40</th>\n",
       "      <td>South Dakota</td>\n",
       "      <td>5.297169e+03</td>\n",
       "      <td>5.356459e+03</td>\n",
       "      <td>5.416386e+03</td>\n",
       "      <td>5.337167e+03</td>\n",
       "      <td>5.486946e+03</td>\n",
       "      <td>5.582611e+03</td>\n",
       "      <td>SD</td>\n",
       "      <td>5.386423e+03</td>\n",
       "      <td>5.412057e+03</td>\n",
       "      <td>5.582611e+03</td>\n",
       "      <td>6.495348e+03</td>\n",
       "      <td>0.004759</td>\n",
       "      <td>0.031514</td>\n",
       "    </tr>\n",
       "    <tr>\n",
       "      <th>41</th>\n",
       "      <td>Tennessee</td>\n",
       "      <td>3.692215e+07</td>\n",
       "      <td>3.772971e+07</td>\n",
       "      <td>3.868786e+07</td>\n",
       "      <td>3.665239e+07</td>\n",
       "      <td>3.811483e+07</td>\n",
       "      <td>3.888367e+07</td>\n",
       "      <td>TN</td>\n",
       "      <td>3.820878e+07</td>\n",
       "      <td>3.738361e+07</td>\n",
       "      <td>3.888367e+07</td>\n",
       "      <td>4.539812e+07</td>\n",
       "      <td>-0.021596</td>\n",
       "      <td>0.040126</td>\n",
       "    </tr>\n",
       "    <tr>\n",
       "      <th>42</th>\n",
       "      <td>Texas</td>\n",
       "      <td>1.546469e+08</td>\n",
       "      <td>1.581183e+08</td>\n",
       "      <td>1.611822e+08</td>\n",
       "      <td>1.545179e+08</td>\n",
       "      <td>1.620716e+08</td>\n",
       "      <td>1.690799e+08</td>\n",
       "      <td>TX</td>\n",
       "      <td>1.596503e+08</td>\n",
       "      <td>1.582948e+08</td>\n",
       "      <td>1.690799e+08</td>\n",
       "      <td>1.919234e+08</td>\n",
       "      <td>-0.008490</td>\n",
       "      <td>0.068134</td>\n",
       "    </tr>\n",
       "    <tr>\n",
       "      <th>43</th>\n",
       "      <td>Utah</td>\n",
       "      <td>1.806246e+07</td>\n",
       "      <td>1.845838e+07</td>\n",
       "      <td>1.893239e+07</td>\n",
       "      <td>1.880802e+07</td>\n",
       "      <td>1.969822e+07</td>\n",
       "      <td>2.042529e+07</td>\n",
       "      <td>UT</td>\n",
       "      <td>1.869538e+07</td>\n",
       "      <td>1.925312e+07</td>\n",
       "      <td>2.042529e+07</td>\n",
       "      <td>2.287695e+07</td>\n",
       "      <td>0.029833</td>\n",
       "      <td>0.060882</td>\n",
       "    </tr>\n",
       "    <tr>\n",
       "      <th>44</th>\n",
       "      <td>Vermont</td>\n",
       "      <td>4.135687e+03</td>\n",
       "      <td>4.158755e+03</td>\n",
       "      <td>4.151757e+03</td>\n",
       "      <td>3.844877e+03</td>\n",
       "      <td>3.880991e+03</td>\n",
       "      <td>3.997367e+03</td>\n",
       "      <td>VT</td>\n",
       "      <td>4.155256e+03</td>\n",
       "      <td>3.862934e+03</td>\n",
       "      <td>3.997367e+03</td>\n",
       "      <td>4.833887e+03</td>\n",
       "      <td>-0.070350</td>\n",
       "      <td>0.034801</td>\n",
       "    </tr>\n",
       "    <tr>\n",
       "      <th>45</th>\n",
       "      <td>Virginia</td>\n",
       "      <td>5.031640e+07</td>\n",
       "      <td>5.072813e+07</td>\n",
       "      <td>5.150882e+07</td>\n",
       "      <td>4.873416e+07</td>\n",
       "      <td>4.995540e+07</td>\n",
       "      <td>5.169756e+07</td>\n",
       "      <td>VA</td>\n",
       "      <td>5.111848e+07</td>\n",
       "      <td>4.934478e+07</td>\n",
       "      <td>5.169756e+07</td>\n",
       "      <td>6.058809e+07</td>\n",
       "      <td>-0.034698</td>\n",
       "      <td>0.047680</td>\n",
       "    </tr>\n",
       "    <tr>\n",
       "      <th>46</th>\n",
       "      <td>Washington</td>\n",
       "      <td>4.265076e+07</td>\n",
       "      <td>4.374894e+07</td>\n",
       "      <td>4.520800e+07</td>\n",
       "      <td>4.322792e+07</td>\n",
       "      <td>4.435075e+07</td>\n",
       "      <td>4.585897e+07</td>\n",
       "      <td>WA</td>\n",
       "      <td>4.447847e+07</td>\n",
       "      <td>4.378934e+07</td>\n",
       "      <td>4.585897e+07</td>\n",
       "      <td>5.300907e+07</td>\n",
       "      <td>-0.015494</td>\n",
       "      <td>0.047263</td>\n",
       "    </tr>\n",
       "    <tr>\n",
       "      <th>47</th>\n",
       "      <td>West Virginia</td>\n",
       "      <td>8.924676e+03</td>\n",
       "      <td>9.029457e+03</td>\n",
       "      <td>9.074213e+03</td>\n",
       "      <td>8.583953e+03</td>\n",
       "      <td>8.870705e+03</td>\n",
       "      <td>9.052054e+03</td>\n",
       "      <td>WV</td>\n",
       "      <td>9.051835e+03</td>\n",
       "      <td>8.727329e+03</td>\n",
       "      <td>9.052054e+03</td>\n",
       "      <td>1.070701e+04</td>\n",
       "      <td>-0.035850</td>\n",
       "      <td>0.037208</td>\n",
       "    </tr>\n",
       "    <tr>\n",
       "      <th>48</th>\n",
       "      <td>Wisconsin</td>\n",
       "      <td>3.647164e+07</td>\n",
       "      <td>3.636283e+07</td>\n",
       "      <td>3.615330e+07</td>\n",
       "      <td>3.475798e+07</td>\n",
       "      <td>3.578123e+07</td>\n",
       "      <td>3.590576e+07</td>\n",
       "      <td>WI</td>\n",
       "      <td>3.625807e+07</td>\n",
       "      <td>3.526961e+07</td>\n",
       "      <td>3.590576e+07</td>\n",
       "      <td>4.308655e+07</td>\n",
       "      <td>-0.027262</td>\n",
       "      <td>0.018037</td>\n",
       "    </tr>\n",
       "    <tr>\n",
       "      <th>49</th>\n",
       "      <td>Wyoming</td>\n",
       "      <td>3.373435e+03</td>\n",
       "      <td>3.368788e+03</td>\n",
       "      <td>3.389463e+03</td>\n",
       "      <td>3.316660e+03</td>\n",
       "      <td>3.309433e+03</td>\n",
       "      <td>3.375988e+03</td>\n",
       "      <td>WY</td>\n",
       "      <td>3.379126e+03</td>\n",
       "      <td>3.313046e+03</td>\n",
       "      <td>3.375988e+03</td>\n",
       "      <td>4.026753e+03</td>\n",
       "      <td>-0.019555</td>\n",
       "      <td>0.018998</td>\n",
       "    </tr>\n",
       "  </tbody>\n",
       "</table>\n",
       "</div>"
      ],
      "text/plain": [
       "          Geo Name          2017          2018          2019          2020  \\\n",
       "0          Alabama  2.524488e+07  2.582212e+07  2.640015e+07  2.549138e+07   \n",
       "1           Alaska  4.044968e+03  4.008155e+03  4.001235e+03  3.817886e+03   \n",
       "2          Arizona  3.695103e+07  3.798921e+07  3.919274e+07  3.838481e+07   \n",
       "3         Arkansas  1.557290e+07  1.553656e+07  1.568699e+07  1.516322e+07   \n",
       "4       California  2.190675e+08  2.216071e+08  2.234436e+08  2.045019e+08   \n",
       "5         Colorado  3.462597e+07  3.553517e+07  3.627624e+07  3.455031e+07   \n",
       "6      Connecticut  2.206079e+07  2.218630e+07  2.242874e+07  2.080636e+07   \n",
       "7         Delaware  5.447235e+03  5.549219e+03  5.605708e+03  5.398454e+03   \n",
       "8          Florida  1.145260e+08  1.169783e+08  1.194344e+08  1.114607e+08   \n",
       "9          Georgia  5.837343e+07  5.905961e+07  5.971749e+07  5.718442e+07   \n",
       "10          Hawaii  8.157988e+03  8.107904e+03  8.027076e+03  7.030564e+03   \n",
       "11           Idaho  9.752117e+03  1.005250e+04  1.035717e+04  1.022590e+04   \n",
       "12        Illinois  7.483919e+07  7.524730e+07  7.547103e+07  6.908118e+07   \n",
       "13         Indiana  3.859686e+07  3.932667e+07  3.949430e+07  3.721664e+07   \n",
       "14            Iowa  1.974755e+07  2.001141e+07  2.036063e+07  1.904273e+07   \n",
       "15          Kansas  1.721282e+07  1.731665e+07  1.746442e+07  1.698040e+07   \n",
       "16        Kentucky  2.345782e+07  2.359287e+07  2.380429e+07  2.263181e+07   \n",
       "17       Louisiana  2.400053e+07  2.409128e+07  2.409626e+07  2.263933e+07   \n",
       "18           Maine  8.160982e+03  8.142467e+03  8.129890e+03  7.638796e+03   \n",
       "19        Maryland  3.737282e+07  3.775188e+07  3.865623e+07  3.636196e+07   \n",
       "20   Massachusetts  4.298534e+07  4.422717e+07  4.470498e+07  4.077528e+07   \n",
       "21        Michigan  5.622410e+07  5.686158e+07  5.728413e+07  5.252451e+07   \n",
       "22       Minnesota  3.556042e+07  3.578368e+07  3.609681e+07  3.523353e+07   \n",
       "23     Mississippi  1.447062e+07  1.445959e+07  1.449649e+07  1.376528e+07   \n",
       "24        Missouri  3.526968e+07  3.539732e+07  3.570952e+07  3.421436e+07   \n",
       "25         Montana  6.081941e+03  6.181102e+03  6.297789e+03  6.160245e+03   \n",
       "26        Nebraska  1.191236e+04  1.107585e+07  1.222575e+07  8.109089e+06   \n",
       "27          Nevada  1.646210e+07  1.715035e+07  1.779372e+07  1.562978e+07   \n",
       "28   New Hampshire  8.842803e+03  9.001539e+03  9.125302e+03  8.556742e+03   \n",
       "29      New Jersey  5.286773e+07  5.304204e+07  5.429676e+07  5.053151e+07   \n",
       "30      New Mexico  1.069054e+04  1.077884e+04  1.090463e+04  1.029514e+04   \n",
       "31        New York  1.125836e+08  1.130638e+08  1.137310e+08  1.036665e+08   \n",
       "32  North Carolina  5.575216e+07  5.659135e+07  5.760638e+07  5.387420e+07   \n",
       "33    North Dakota  4.858854e+03  4.826043e+03  4.856936e+03  4.672396e+03   \n",
       "34            Ohio  6.634048e+07  6.670455e+07  6.759990e+07  6.333582e+07   \n",
       "35        Oklahoma  2.103448e+07  2.124984e+07  2.138828e+07  2.070050e+07   \n",
       "36          Oregon  2.390425e+07  2.396066e+07  2.419767e+07  2.335897e+07   \n",
       "37    Pennsylvania  7.393117e+07  7.465985e+07  7.545728e+07  7.117672e+07   \n",
       "38    Rhode Island  6.509224e+03  6.594236e+03  6.648574e+03  6.214041e+03   \n",
       "39  South Carolina  2.600111e+07  2.645691e+07  2.712046e+07  2.633408e+07   \n",
       "40    South Dakota  5.297169e+03  5.356459e+03  5.416386e+03  5.337167e+03   \n",
       "41       Tennessee  3.692215e+07  3.772971e+07  3.868786e+07  3.665239e+07   \n",
       "42           Texas  1.546469e+08  1.581183e+08  1.611822e+08  1.545179e+08   \n",
       "43            Utah  1.806246e+07  1.845838e+07  1.893239e+07  1.880802e+07   \n",
       "44         Vermont  4.135687e+03  4.158755e+03  4.151757e+03  3.844877e+03   \n",
       "45        Virginia  5.031640e+07  5.072813e+07  5.150882e+07  4.873416e+07   \n",
       "46      Washington  4.265076e+07  4.374894e+07  4.520800e+07  4.322792e+07   \n",
       "47   West Virginia  8.924676e+03  9.029457e+03  9.074213e+03  8.583953e+03   \n",
       "48       Wisconsin  3.647164e+07  3.636283e+07  3.615330e+07  3.475798e+07   \n",
       "49         Wyoming  3.373435e+03  3.368788e+03  3.389463e+03  3.316660e+03   \n",
       "\n",
       "            2021          2022 code        Before        During         After  \\\n",
       "0   2.619800e+07  2.672025e+07   AL  2.611113e+07  2.584469e+07  2.672025e+07   \n",
       "1   3.965907e+03  4.108677e+03   AK  4.004695e+03  3.891896e+03  4.108677e+03   \n",
       "2   4.023067e+07  4.170957e+07   AZ  3.859097e+07  3.930774e+07  4.170957e+07   \n",
       "3   1.542636e+07  1.588709e+07   AR  1.561178e+07  1.529479e+07  1.588709e+07   \n",
       "4   2.110558e+08  2.212555e+08   CA  2.225254e+08  2.077788e+08  2.212555e+08   \n",
       "5   3.583876e+07  3.724082e+07   CO  3.590570e+07  3.519454e+07  3.724082e+07   \n",
       "6   2.086931e+07  2.223153e+07   CT  2.230752e+07  2.083784e+07  2.223153e+07   \n",
       "7   5.602624e+03  5.691896e+03   DE  5.577463e+03  5.500539e+03  5.691896e+03   \n",
       "8   1.184789e+08  1.253605e+08   FL  1.182063e+08  1.149698e+08  1.253605e+08   \n",
       "9   5.974344e+07  6.088954e+07   GA  5.938855e+07  5.846393e+07  6.088954e+07   \n",
       "10  7.556735e+03  7.833835e+03   HI  8.067490e+03  7.293649e+03  7.833835e+03   \n",
       "11  1.071967e+04  1.110181e+04   ID  1.020483e+04  1.047279e+04  1.110181e+04   \n",
       "12  7.177863e+07  7.413713e+07   IL  7.535916e+07  7.042990e+07  7.413713e+07   \n",
       "13  3.870878e+07  3.963474e+07   IN  3.941048e+07  3.796271e+07  3.963474e+07   \n",
       "14  1.951920e+07  2.003993e+07   IA  2.018602e+07  1.928096e+07  2.003993e+07   \n",
       "15  1.741736e+07  1.757670e+07   KS  1.739053e+07  1.719888e+07  1.757670e+07   \n",
       "16  2.324495e+07  2.362856e+07   KY  2.369858e+07  2.293838e+07  2.362856e+07   \n",
       "17  2.350477e+07  2.413703e+07   LA  2.409377e+07  2.307205e+07  2.413703e+07   \n",
       "18  7.840156e+03  7.862586e+03   ME  8.136178e+03  7.739476e+03  7.862586e+03   \n",
       "19  3.606727e+07  3.681642e+07   MD  3.820405e+07  3.621461e+07  3.681642e+07   \n",
       "20  4.243660e+07  4.324722e+07   MA  4.446607e+07  4.160594e+07  4.324722e+07   \n",
       "21  5.402112e+07  5.560046e+07   MI  5.707285e+07  5.327281e+07  5.560046e+07   \n",
       "22  3.509594e+07  3.594759e+07   MN  3.594025e+07  3.516474e+07  3.594759e+07   \n",
       "23  1.424419e+07  1.442981e+07   MS  1.447804e+07  1.400473e+07  1.442981e+07   \n",
       "24  3.510709e+07  3.580788e+07   MO  3.555342e+07  3.466073e+07  3.580788e+07   \n",
       "25  6.383649e+03  6.634098e+03   MT  6.239445e+03  6.271947e+03  6.634098e+03   \n",
       "26  1.225694e+07  1.240904e+07   NE  1.165080e+07  1.018301e+07  1.240904e+07   \n",
       "27  1.674970e+07  1.759721e+07   NV  1.747204e+07  1.618974e+07  1.759721e+07   \n",
       "28  8.773638e+03  8.968872e+03   NH  9.063421e+03  8.665190e+03  8.968872e+03   \n",
       "29  5.228448e+07  5.478531e+07   NJ  5.366940e+07  5.140799e+07  5.478531e+07   \n",
       "30  1.052102e+04  1.090704e+04   NM  1.084173e+04  1.040808e+04  1.090704e+04   \n",
       "31  1.066748e+08  1.104948e+08   NY  1.133974e+08  1.051706e+08  1.104948e+08   \n",
       "32  5.656142e+07  5.965823e+07   NC  5.709887e+07  5.521781e+07  5.965823e+07   \n",
       "33  4.756712e+03  4.867037e+03   ND  4.841489e+03  4.714554e+03  4.867037e+03   \n",
       "34  6.522439e+07  6.614043e+07   OH  6.715223e+07  6.428011e+07  6.614043e+07   \n",
       "35  2.143152e+07  2.195404e+07   OK  2.131906e+07  2.106601e+07  2.195404e+07   \n",
       "36  2.444001e+07  2.502782e+07   OR  2.407916e+07  2.389949e+07  2.502782e+07   \n",
       "37  7.271593e+07  7.434553e+07   PA  7.505856e+07  7.194632e+07  7.434553e+07   \n",
       "38  6.481343e+03  6.619429e+03   RI  6.621405e+03  6.347692e+03  6.619429e+03   \n",
       "39  2.713603e+07  2.757391e+07   SC  2.678868e+07  2.673506e+07  2.757391e+07   \n",
       "40  5.486946e+03  5.582611e+03   SD  5.386423e+03  5.412057e+03  5.582611e+03   \n",
       "41  3.811483e+07  3.888367e+07   TN  3.820878e+07  3.738361e+07  3.888367e+07   \n",
       "42  1.620716e+08  1.690799e+08   TX  1.596503e+08  1.582948e+08  1.690799e+08   \n",
       "43  1.969822e+07  2.042529e+07   UT  1.869538e+07  1.925312e+07  2.042529e+07   \n",
       "44  3.880991e+03  3.997367e+03   VT  4.155256e+03  3.862934e+03  3.997367e+03   \n",
       "45  4.995540e+07  5.169756e+07   VA  5.111848e+07  4.934478e+07  5.169756e+07   \n",
       "46  4.435075e+07  4.585897e+07   WA  4.447847e+07  4.378934e+07  4.585897e+07   \n",
       "47  8.870705e+03  9.052054e+03   WV  9.051835e+03  8.727329e+03  9.052054e+03   \n",
       "48  3.578123e+07  3.590576e+07   WI  3.625807e+07  3.526961e+07  3.590576e+07   \n",
       "49  3.309433e+03  3.375988e+03   WY  3.379126e+03  3.313046e+03  3.375988e+03   \n",
       "\n",
       "      Total Mean  pre-during delta  during-after delta  \n",
       "0   3.117536e+07         -0.010204            0.033878  \n",
       "1   4.789366e+03         -0.028167            0.055700  \n",
       "2   4.689161e+07          0.018573            0.061103  \n",
       "3   1.865462e+07         -0.020305            0.038726  \n",
       "4   2.601863e+08         -0.066269            0.064860  \n",
       "5   4.281345e+07         -0.019807            0.058142  \n",
       "6   2.611661e+07         -0.065883            0.066883  \n",
       "7   6.659027e+03         -0.013792            0.034789  \n",
       "8   1.412478e+08         -0.027380            0.090378  \n",
       "9   7.099359e+07         -0.015569            0.041489  \n",
       "10  9.342820e+03         -0.095921            0.074062  \n",
       "11  1.244183e+04          0.026257            0.060063  \n",
       "12  8.811089e+07         -0.065410            0.052637  \n",
       "13  4.659559e+07         -0.036736            0.044044  \n",
       "14  2.374429e+07         -0.044836            0.039364  \n",
       "15  2.079367e+07         -0.011020            0.021968  \n",
       "16  2.807206e+07         -0.032078            0.030089  \n",
       "17  2.849384e+07         -0.042406            0.046159  \n",
       "18  9.554975e+03         -0.048758            0.015907  \n",
       "19  4.460532e+07         -0.052074            0.016618  \n",
       "20  5.167532e+07         -0.064322            0.039448  \n",
       "21  6.650318e+07         -0.066582            0.043693  \n",
       "22  4.274360e+07         -0.021578            0.022262  \n",
       "23  1.717320e+07         -0.032692            0.030352  \n",
       "24  4.230117e+07         -0.025109            0.033097  \n",
       "25  7.547765e+03          0.005209            0.057741  \n",
       "26  1.121772e+07         -0.125982            0.218602  \n",
       "27  2.027657e+07         -0.073391            0.086936  \n",
       "28  1.065378e+04         -0.043938            0.035046  \n",
       "29  6.356157e+07         -0.042136            0.065696  \n",
       "30  1.281944e+04         -0.039998            0.047940  \n",
       "31  1.320429e+08         -0.072548            0.050624  \n",
       "32  6.800875e+07         -0.032944            0.080416  \n",
       "33  5.767596e+03         -0.026218            0.032343  \n",
       "34  7.906912e+07         -0.042770            0.028941  \n",
       "35  2.555173e+07         -0.011870            0.042155  \n",
       "36  2.897788e+07         -0.007462            0.047211  \n",
       "37  8.845730e+07         -0.041464            0.033347  \n",
       "38  7.813369e+03         -0.041338            0.042809  \n",
       "39  3.212450e+07         -0.002002            0.031376  \n",
       "40  6.495348e+03          0.004759            0.031514  \n",
       "41  4.539812e+07         -0.021596            0.040126  \n",
       "42  1.919234e+08         -0.008490            0.068134  \n",
       "43  2.287695e+07          0.029833            0.060882  \n",
       "44  4.833887e+03         -0.070350            0.034801  \n",
       "45  6.058809e+07         -0.034698            0.047680  \n",
       "46  5.300907e+07         -0.015494            0.047263  \n",
       "47  1.070701e+04         -0.035850            0.037208  \n",
       "48  4.308655e+07         -0.027262            0.018037  \n",
       "49  4.026753e+03         -0.019555            0.018998  "
      ]
     },
     "execution_count": 10,
     "metadata": {},
     "output_type": "execute_result"
    }
   ],
   "source": [
    "state_code = pd.read_csv('https://raw.githubusercontent.com/plotly/datasets/master/2011_us_ag_exports.csv')\n",
    "c = state_code.loc[:, \"code\"].tolist()\n",
    "target[\"code\"] = c\n",
    "target[\"Before\"] = (target[2018] + target[2019])/2\n",
    "target[\"During\"] = (target[2020] + target[2021])/2\n",
    "target[\"After\"] = target[2022]\n",
    "target[\"Total Mean\"] = (target[2017] + target[2018]+ target[2019]+target[2020]+ target[2021]+ target[2022])/5\n",
    "target[\"pre-during delta\"] = (target[\"During\"] - target[\"Before\"])/target[\"Before\"]\n",
    "target[\"during-after delta\"] = (target[\"After\"] - target[\"During\"])/target[\"During\"]\n",
    "target"
   ]
  },
  {
   "cell_type": "code",
   "execution_count": 11,
   "id": "ee26dc40",
   "metadata": {},
   "outputs": [],
   "source": [
    "target.to_csv(\"GDP.csv\", sep=',', index=False, encoding='utf-8')"
   ]
  },
  {
   "cell_type": "code",
   "execution_count": 12,
   "id": "a239afc7",
   "metadata": {},
   "outputs": [
    {
     "name": "stderr",
     "output_type": "stream",
     "text": [
      "/var/folders/9g/t2y0m0ms2cx8ctm6xwp4wrgw0000gn/T/ipykernel_9533/4033670356.py:22: FutureWarning:\n",
      "\n",
      "The frame.append method is deprecated and will be removed from pandas in a future version. Use pandas.concat instead.\n",
      "\n",
      "/var/folders/9g/t2y0m0ms2cx8ctm6xwp4wrgw0000gn/T/ipykernel_9533/4033670356.py:22: FutureWarning:\n",
      "\n",
      "The frame.append method is deprecated and will be removed from pandas in a future version. Use pandas.concat instead.\n",
      "\n",
      "/var/folders/9g/t2y0m0ms2cx8ctm6xwp4wrgw0000gn/T/ipykernel_9533/4033670356.py:22: FutureWarning:\n",
      "\n",
      "The frame.append method is deprecated and will be removed from pandas in a future version. Use pandas.concat instead.\n",
      "\n",
      "/var/folders/9g/t2y0m0ms2cx8ctm6xwp4wrgw0000gn/T/ipykernel_9533/4033670356.py:22: FutureWarning:\n",
      "\n",
      "The frame.append method is deprecated and will be removed from pandas in a future version. Use pandas.concat instead.\n",
      "\n",
      "/var/folders/9g/t2y0m0ms2cx8ctm6xwp4wrgw0000gn/T/ipykernel_9533/4033670356.py:22: FutureWarning:\n",
      "\n",
      "The frame.append method is deprecated and will be removed from pandas in a future version. Use pandas.concat instead.\n",
      "\n",
      "/var/folders/9g/t2y0m0ms2cx8ctm6xwp4wrgw0000gn/T/ipykernel_9533/4033670356.py:22: FutureWarning:\n",
      "\n",
      "The frame.append method is deprecated and will be removed from pandas in a future version. Use pandas.concat instead.\n",
      "\n",
      "/var/folders/9g/t2y0m0ms2cx8ctm6xwp4wrgw0000gn/T/ipykernel_9533/4033670356.py:22: FutureWarning:\n",
      "\n",
      "The frame.append method is deprecated and will be removed from pandas in a future version. Use pandas.concat instead.\n",
      "\n",
      "/var/folders/9g/t2y0m0ms2cx8ctm6xwp4wrgw0000gn/T/ipykernel_9533/4033670356.py:22: FutureWarning:\n",
      "\n",
      "The frame.append method is deprecated and will be removed from pandas in a future version. Use pandas.concat instead.\n",
      "\n"
     ]
    }
   ],
   "source": [
    "region_list = [New_England, Mideast, Great_Lakes, Plains, Southeast, Southwest, Rocky_Mountain, Far_West]\n",
    "region = [\"New England\", \"Mideast\", \"Great Lakes\", \"Plains\", \"Southeast\", \"Southwest\", \"Rocky Mountain\", \"Far West\"]\n",
    "region_df = pd.DataFrame()\n",
    "for r in region_list:\n",
    "    x = target.loc[target[\"Geo Name\"].isin(r), :].sum()\n",
    "    if r == New_England:\n",
    "        x[\"Geo Name\"] = \"New England\"\n",
    "    if r == Mideast:\n",
    "        x[\"Geo Name\"] = \"Mideast\"\n",
    "    if r == Great_Lakes:\n",
    "        x[\"Geo Name\"] = \"Great Lakes\"\n",
    "    if r == Plains:\n",
    "        x[\"Geo Name\"] = \"Plains\"\n",
    "    if r == Southeast:\n",
    "        x[\"Geo Name\"] = \"Southeast\"\n",
    "    if r == Southwest:\n",
    "        x[\"Geo Name\"] = \"Southwest\"\n",
    "    if r == Rocky_Mountain:\n",
    "        x[\"Geo Name\"] = \"Rocky Mountain\"\n",
    "    if r == Far_West:\n",
    "        x[\"Geo Name\"] = \"Far West\"    \n",
    "    region_df = region_df.append(x,ignore_index=True)\n",
    "   "
   ]
  },
  {
   "cell_type": "code",
   "execution_count": 13,
   "id": "13cd83ff",
   "metadata": {},
   "outputs": [],
   "source": [
    "region_df = region_df.drop(columns=\"code\")"
   ]
  },
  {
   "cell_type": "code",
   "execution_count": 14,
   "id": "f6738593",
   "metadata": {},
   "outputs": [],
   "source": [
    "region_df[\"change2018\"] = (region_df[2018] - region_df[2017])/region_df[2017]\n",
    "region_df[\"change2019\"] = (region_df[2019] - region_df[2018])/region_df[2018]\n",
    "region_df[\"change2020\"] = (region_df[2020] - region_df[2019])/region_df[2019]\n",
    "region_df[\"change2021\"] = (region_df[2021] - region_df[2020])/region_df[2020]\n",
    "region_df[\"change2022\"] = (region_df[2022] - region_df[2021])/region_df[2021]"
   ]
  },
  {
   "cell_type": "code",
   "execution_count": 15,
   "id": "e26ebc5b",
   "metadata": {},
   "outputs": [
    {
     "data": {
      "application/vnd.plotly.v1+json": {
       "config": {
        "linkText": "Export to plot.ly",
        "plotlyServerURL": "https://plot.ly",
        "showLink": false
       },
       "data": [
        {
         "colorbar": {
          "title": {
           "text": "Jobs by Number"
          }
         },
         "colorscale": [
          [
           0,
           "rgb(247,251,255)"
          ],
          [
           0.125,
           "rgb(222,235,247)"
          ],
          [
           0.25,
           "rgb(198,219,239)"
          ],
          [
           0.375,
           "rgb(158,202,225)"
          ],
          [
           0.5,
           "rgb(107,174,214)"
          ],
          [
           0.625,
           "rgb(66,146,198)"
          ],
          [
           0.75,
           "rgb(33,113,181)"
          ],
          [
           0.875,
           "rgb(8,81,156)"
          ],
          [
           1,
           "rgb(8,48,107)"
          ]
         ],
         "locationmode": "USA-states",
         "locations": [
          "AL",
          "AK",
          "AZ",
          "AR",
          "CA",
          "CO",
          "CT",
          "DE",
          "FL",
          "GA",
          "HI",
          "ID",
          "IL",
          "IN",
          "IA",
          "KS",
          "KY",
          "LA",
          "ME",
          "MD",
          "MA",
          "MI",
          "MN",
          "MS",
          "MO",
          "MT",
          "NE",
          "NV",
          "NH",
          "NJ",
          "NM",
          "NY",
          "NC",
          "ND",
          "OH",
          "OK",
          "OR",
          "PA",
          "RI",
          "SC",
          "SD",
          "TN",
          "TX",
          "UT",
          "VT",
          "VA",
          "WA",
          "WV",
          "WI",
          "WY"
         ],
         "type": "choropleth",
         "z": [
          31175356.6,
          4789.3656,
          46891605.6,
          18654621.8,
          260186274.4,
          42813452.4,
          26116605.6,
          6659.0271999999995,
          141247765.6,
          70993585.8,
          9342.8204,
          12441.834400000002,
          88110890.6,
          46595594.6,
          23744288.4,
          20793669.4,
          28072060,
          28493839.4,
          9554.975400000001,
          44605316.2,
          51675318.4,
          66503177.2,
          42743595.4,
          17173195.4,
          42301170.6,
          7547.7648,
          11217715.6882,
          20276573.2,
          10653.779199999999,
          63561566.6,
          12819.4406,
          132042888,
          68008748,
          5767.5956,
          79069115.4,
          25551732.8,
          28977877.2,
          88457296.2,
          7813.3694000000005,
          32124499.8,
          6495.3476,
          45398122.4,
          191923371.4,
          22876951.8,
          4833.8868,
          60588093.8,
          53009066.2,
          10707.011600000002,
          43086550.2,
          4026.7534
         ]
        }
       ],
       "layout": {
        "geo": {
         "scope": "usa"
        },
        "template": {
         "data": {
          "bar": [
           {
            "error_x": {
             "color": "#2a3f5f"
            },
            "error_y": {
             "color": "#2a3f5f"
            },
            "marker": {
             "line": {
              "color": "#E5ECF6",
              "width": 0.5
             },
             "pattern": {
              "fillmode": "overlay",
              "size": 10,
              "solidity": 0.2
             }
            },
            "type": "bar"
           }
          ],
          "barpolar": [
           {
            "marker": {
             "line": {
              "color": "#E5ECF6",
              "width": 0.5
             },
             "pattern": {
              "fillmode": "overlay",
              "size": 10,
              "solidity": 0.2
             }
            },
            "type": "barpolar"
           }
          ],
          "carpet": [
           {
            "aaxis": {
             "endlinecolor": "#2a3f5f",
             "gridcolor": "white",
             "linecolor": "white",
             "minorgridcolor": "white",
             "startlinecolor": "#2a3f5f"
            },
            "baxis": {
             "endlinecolor": "#2a3f5f",
             "gridcolor": "white",
             "linecolor": "white",
             "minorgridcolor": "white",
             "startlinecolor": "#2a3f5f"
            },
            "type": "carpet"
           }
          ],
          "choropleth": [
           {
            "colorbar": {
             "outlinewidth": 0,
             "ticks": ""
            },
            "type": "choropleth"
           }
          ],
          "contour": [
           {
            "colorbar": {
             "outlinewidth": 0,
             "ticks": ""
            },
            "colorscale": [
             [
              0,
              "#0d0887"
             ],
             [
              0.1111111111111111,
              "#46039f"
             ],
             [
              0.2222222222222222,
              "#7201a8"
             ],
             [
              0.3333333333333333,
              "#9c179e"
             ],
             [
              0.4444444444444444,
              "#bd3786"
             ],
             [
              0.5555555555555556,
              "#d8576b"
             ],
             [
              0.6666666666666666,
              "#ed7953"
             ],
             [
              0.7777777777777778,
              "#fb9f3a"
             ],
             [
              0.8888888888888888,
              "#fdca26"
             ],
             [
              1,
              "#f0f921"
             ]
            ],
            "type": "contour"
           }
          ],
          "contourcarpet": [
           {
            "colorbar": {
             "outlinewidth": 0,
             "ticks": ""
            },
            "type": "contourcarpet"
           }
          ],
          "heatmap": [
           {
            "colorbar": {
             "outlinewidth": 0,
             "ticks": ""
            },
            "colorscale": [
             [
              0,
              "#0d0887"
             ],
             [
              0.1111111111111111,
              "#46039f"
             ],
             [
              0.2222222222222222,
              "#7201a8"
             ],
             [
              0.3333333333333333,
              "#9c179e"
             ],
             [
              0.4444444444444444,
              "#bd3786"
             ],
             [
              0.5555555555555556,
              "#d8576b"
             ],
             [
              0.6666666666666666,
              "#ed7953"
             ],
             [
              0.7777777777777778,
              "#fb9f3a"
             ],
             [
              0.8888888888888888,
              "#fdca26"
             ],
             [
              1,
              "#f0f921"
             ]
            ],
            "type": "heatmap"
           }
          ],
          "heatmapgl": [
           {
            "colorbar": {
             "outlinewidth": 0,
             "ticks": ""
            },
            "colorscale": [
             [
              0,
              "#0d0887"
             ],
             [
              0.1111111111111111,
              "#46039f"
             ],
             [
              0.2222222222222222,
              "#7201a8"
             ],
             [
              0.3333333333333333,
              "#9c179e"
             ],
             [
              0.4444444444444444,
              "#bd3786"
             ],
             [
              0.5555555555555556,
              "#d8576b"
             ],
             [
              0.6666666666666666,
              "#ed7953"
             ],
             [
              0.7777777777777778,
              "#fb9f3a"
             ],
             [
              0.8888888888888888,
              "#fdca26"
             ],
             [
              1,
              "#f0f921"
             ]
            ],
            "type": "heatmapgl"
           }
          ],
          "histogram": [
           {
            "marker": {
             "pattern": {
              "fillmode": "overlay",
              "size": 10,
              "solidity": 0.2
             }
            },
            "type": "histogram"
           }
          ],
          "histogram2d": [
           {
            "colorbar": {
             "outlinewidth": 0,
             "ticks": ""
            },
            "colorscale": [
             [
              0,
              "#0d0887"
             ],
             [
              0.1111111111111111,
              "#46039f"
             ],
             [
              0.2222222222222222,
              "#7201a8"
             ],
             [
              0.3333333333333333,
              "#9c179e"
             ],
             [
              0.4444444444444444,
              "#bd3786"
             ],
             [
              0.5555555555555556,
              "#d8576b"
             ],
             [
              0.6666666666666666,
              "#ed7953"
             ],
             [
              0.7777777777777778,
              "#fb9f3a"
             ],
             [
              0.8888888888888888,
              "#fdca26"
             ],
             [
              1,
              "#f0f921"
             ]
            ],
            "type": "histogram2d"
           }
          ],
          "histogram2dcontour": [
           {
            "colorbar": {
             "outlinewidth": 0,
             "ticks": ""
            },
            "colorscale": [
             [
              0,
              "#0d0887"
             ],
             [
              0.1111111111111111,
              "#46039f"
             ],
             [
              0.2222222222222222,
              "#7201a8"
             ],
             [
              0.3333333333333333,
              "#9c179e"
             ],
             [
              0.4444444444444444,
              "#bd3786"
             ],
             [
              0.5555555555555556,
              "#d8576b"
             ],
             [
              0.6666666666666666,
              "#ed7953"
             ],
             [
              0.7777777777777778,
              "#fb9f3a"
             ],
             [
              0.8888888888888888,
              "#fdca26"
             ],
             [
              1,
              "#f0f921"
             ]
            ],
            "type": "histogram2dcontour"
           }
          ],
          "mesh3d": [
           {
            "colorbar": {
             "outlinewidth": 0,
             "ticks": ""
            },
            "type": "mesh3d"
           }
          ],
          "parcoords": [
           {
            "line": {
             "colorbar": {
              "outlinewidth": 0,
              "ticks": ""
             }
            },
            "type": "parcoords"
           }
          ],
          "pie": [
           {
            "automargin": true,
            "type": "pie"
           }
          ],
          "scatter": [
           {
            "fillpattern": {
             "fillmode": "overlay",
             "size": 10,
             "solidity": 0.2
            },
            "type": "scatter"
           }
          ],
          "scatter3d": [
           {
            "line": {
             "colorbar": {
              "outlinewidth": 0,
              "ticks": ""
             }
            },
            "marker": {
             "colorbar": {
              "outlinewidth": 0,
              "ticks": ""
             }
            },
            "type": "scatter3d"
           }
          ],
          "scattercarpet": [
           {
            "marker": {
             "colorbar": {
              "outlinewidth": 0,
              "ticks": ""
             }
            },
            "type": "scattercarpet"
           }
          ],
          "scattergeo": [
           {
            "marker": {
             "colorbar": {
              "outlinewidth": 0,
              "ticks": ""
             }
            },
            "type": "scattergeo"
           }
          ],
          "scattergl": [
           {
            "marker": {
             "colorbar": {
              "outlinewidth": 0,
              "ticks": ""
             }
            },
            "type": "scattergl"
           }
          ],
          "scattermapbox": [
           {
            "marker": {
             "colorbar": {
              "outlinewidth": 0,
              "ticks": ""
             }
            },
            "type": "scattermapbox"
           }
          ],
          "scatterpolar": [
           {
            "marker": {
             "colorbar": {
              "outlinewidth": 0,
              "ticks": ""
             }
            },
            "type": "scatterpolar"
           }
          ],
          "scatterpolargl": [
           {
            "marker": {
             "colorbar": {
              "outlinewidth": 0,
              "ticks": ""
             }
            },
            "type": "scatterpolargl"
           }
          ],
          "scatterternary": [
           {
            "marker": {
             "colorbar": {
              "outlinewidth": 0,
              "ticks": ""
             }
            },
            "type": "scatterternary"
           }
          ],
          "surface": [
           {
            "colorbar": {
             "outlinewidth": 0,
             "ticks": ""
            },
            "colorscale": [
             [
              0,
              "#0d0887"
             ],
             [
              0.1111111111111111,
              "#46039f"
             ],
             [
              0.2222222222222222,
              "#7201a8"
             ],
             [
              0.3333333333333333,
              "#9c179e"
             ],
             [
              0.4444444444444444,
              "#bd3786"
             ],
             [
              0.5555555555555556,
              "#d8576b"
             ],
             [
              0.6666666666666666,
              "#ed7953"
             ],
             [
              0.7777777777777778,
              "#fb9f3a"
             ],
             [
              0.8888888888888888,
              "#fdca26"
             ],
             [
              1,
              "#f0f921"
             ]
            ],
            "type": "surface"
           }
          ],
          "table": [
           {
            "cells": {
             "fill": {
              "color": "#EBF0F8"
             },
             "line": {
              "color": "white"
             }
            },
            "header": {
             "fill": {
              "color": "#C8D4E3"
             },
             "line": {
              "color": "white"
             }
            },
            "type": "table"
           }
          ]
         },
         "layout": {
          "annotationdefaults": {
           "arrowcolor": "#2a3f5f",
           "arrowhead": 0,
           "arrowwidth": 1
          },
          "autotypenumbers": "strict",
          "coloraxis": {
           "colorbar": {
            "outlinewidth": 0,
            "ticks": ""
           }
          },
          "colorscale": {
           "diverging": [
            [
             0,
             "#8e0152"
            ],
            [
             0.1,
             "#c51b7d"
            ],
            [
             0.2,
             "#de77ae"
            ],
            [
             0.3,
             "#f1b6da"
            ],
            [
             0.4,
             "#fde0ef"
            ],
            [
             0.5,
             "#f7f7f7"
            ],
            [
             0.6,
             "#e6f5d0"
            ],
            [
             0.7,
             "#b8e186"
            ],
            [
             0.8,
             "#7fbc41"
            ],
            [
             0.9,
             "#4d9221"
            ],
            [
             1,
             "#276419"
            ]
           ],
           "sequential": [
            [
             0,
             "#0d0887"
            ],
            [
             0.1111111111111111,
             "#46039f"
            ],
            [
             0.2222222222222222,
             "#7201a8"
            ],
            [
             0.3333333333333333,
             "#9c179e"
            ],
            [
             0.4444444444444444,
             "#bd3786"
            ],
            [
             0.5555555555555556,
             "#d8576b"
            ],
            [
             0.6666666666666666,
             "#ed7953"
            ],
            [
             0.7777777777777778,
             "#fb9f3a"
            ],
            [
             0.8888888888888888,
             "#fdca26"
            ],
            [
             1,
             "#f0f921"
            ]
           ],
           "sequentialminus": [
            [
             0,
             "#0d0887"
            ],
            [
             0.1111111111111111,
             "#46039f"
            ],
            [
             0.2222222222222222,
             "#7201a8"
            ],
            [
             0.3333333333333333,
             "#9c179e"
            ],
            [
             0.4444444444444444,
             "#bd3786"
            ],
            [
             0.5555555555555556,
             "#d8576b"
            ],
            [
             0.6666666666666666,
             "#ed7953"
            ],
            [
             0.7777777777777778,
             "#fb9f3a"
            ],
            [
             0.8888888888888888,
             "#fdca26"
            ],
            [
             1,
             "#f0f921"
            ]
           ]
          },
          "colorway": [
           "#636efa",
           "#EF553B",
           "#00cc96",
           "#ab63fa",
           "#FFA15A",
           "#19d3f3",
           "#FF6692",
           "#B6E880",
           "#FF97FF",
           "#FECB52"
          ],
          "font": {
           "color": "#2a3f5f"
          },
          "geo": {
           "bgcolor": "white",
           "lakecolor": "white",
           "landcolor": "#E5ECF6",
           "showlakes": true,
           "showland": true,
           "subunitcolor": "white"
          },
          "hoverlabel": {
           "align": "left"
          },
          "hovermode": "closest",
          "mapbox": {
           "style": "light"
          },
          "paper_bgcolor": "white",
          "plot_bgcolor": "#E5ECF6",
          "polar": {
           "angularaxis": {
            "gridcolor": "white",
            "linecolor": "white",
            "ticks": ""
           },
           "bgcolor": "#E5ECF6",
           "radialaxis": {
            "gridcolor": "white",
            "linecolor": "white",
            "ticks": ""
           }
          },
          "scene": {
           "xaxis": {
            "backgroundcolor": "#E5ECF6",
            "gridcolor": "white",
            "gridwidth": 2,
            "linecolor": "white",
            "showbackground": true,
            "ticks": "",
            "zerolinecolor": "white"
           },
           "yaxis": {
            "backgroundcolor": "#E5ECF6",
            "gridcolor": "white",
            "gridwidth": 2,
            "linecolor": "white",
            "showbackground": true,
            "ticks": "",
            "zerolinecolor": "white"
           },
           "zaxis": {
            "backgroundcolor": "#E5ECF6",
            "gridcolor": "white",
            "gridwidth": 2,
            "linecolor": "white",
            "showbackground": true,
            "ticks": "",
            "zerolinecolor": "white"
           }
          },
          "shapedefaults": {
           "line": {
            "color": "#2a3f5f"
           }
          },
          "ternary": {
           "aaxis": {
            "gridcolor": "white",
            "linecolor": "white",
            "ticks": ""
           },
           "baxis": {
            "gridcolor": "white",
            "linecolor": "white",
            "ticks": ""
           },
           "bgcolor": "#E5ECF6",
           "caxis": {
            "gridcolor": "white",
            "linecolor": "white",
            "ticks": ""
           }
          },
          "title": {
           "x": 0.05
          },
          "xaxis": {
           "automargin": true,
           "gridcolor": "white",
           "linecolor": "white",
           "ticks": "",
           "title": {
            "standoff": 15
           },
           "zerolinecolor": "white",
           "zerolinewidth": 2
          },
          "yaxis": {
           "automargin": true,
           "gridcolor": "white",
           "linecolor": "white",
           "ticks": "",
           "title": {
            "standoff": 15
           },
           "zerolinecolor": "white",
           "zerolinewidth": 2
          }
         }
        },
        "title": {
         "text": "Average Employments Across States"
        }
       }
      },
      "text/html": [
       "<div>                            <div id=\"067cf895-db2f-4fff-975f-7688cebfbc60\" class=\"plotly-graph-div\" style=\"height:525px; width:100%;\"></div>            <script type=\"text/javascript\">                require([\"plotly\"], function(Plotly) {                    window.PLOTLYENV=window.PLOTLYENV || {};                                    if (document.getElementById(\"067cf895-db2f-4fff-975f-7688cebfbc60\")) {                    Plotly.newPlot(                        \"067cf895-db2f-4fff-975f-7688cebfbc60\",                        [{\"colorbar\":{\"title\":{\"text\":\"Jobs by Number\"}},\"colorscale\":[[0.0,\"rgb(247,251,255)\"],[0.125,\"rgb(222,235,247)\"],[0.25,\"rgb(198,219,239)\"],[0.375,\"rgb(158,202,225)\"],[0.5,\"rgb(107,174,214)\"],[0.625,\"rgb(66,146,198)\"],[0.75,\"rgb(33,113,181)\"],[0.875,\"rgb(8,81,156)\"],[1.0,\"rgb(8,48,107)\"]],\"locationmode\":\"USA-states\",\"locations\":[\"AL\",\"AK\",\"AZ\",\"AR\",\"CA\",\"CO\",\"CT\",\"DE\",\"FL\",\"GA\",\"HI\",\"ID\",\"IL\",\"IN\",\"IA\",\"KS\",\"KY\",\"LA\",\"ME\",\"MD\",\"MA\",\"MI\",\"MN\",\"MS\",\"MO\",\"MT\",\"NE\",\"NV\",\"NH\",\"NJ\",\"NM\",\"NY\",\"NC\",\"ND\",\"OH\",\"OK\",\"OR\",\"PA\",\"RI\",\"SC\",\"SD\",\"TN\",\"TX\",\"UT\",\"VT\",\"VA\",\"WA\",\"WV\",\"WI\",\"WY\"],\"z\":[31175356.6,4789.3656,46891605.6,18654621.8,260186274.4,42813452.4,26116605.6,6659.0271999999995,141247765.6,70993585.8,9342.8204,12441.834400000002,88110890.6,46595594.6,23744288.4,20793669.4,28072060.0,28493839.4,9554.975400000001,44605316.2,51675318.4,66503177.2,42743595.4,17173195.4,42301170.6,7547.7648,11217715.6882,20276573.2,10653.779199999999,63561566.6,12819.4406,132042888.0,68008748.0,5767.5956,79069115.4,25551732.8,28977877.2,88457296.2,7813.3694000000005,32124499.8,6495.3476,45398122.4,191923371.4,22876951.8,4833.8868,60588093.8,53009066.2,10707.011600000002,43086550.2,4026.7534],\"type\":\"choropleth\"}],                        {\"geo\":{\"scope\":\"usa\"},\"template\":{\"data\":{\"barpolar\":[{\"marker\":{\"line\":{\"color\":\"#E5ECF6\",\"width\":0.5},\"pattern\":{\"fillmode\":\"overlay\",\"size\":10,\"solidity\":0.2}},\"type\":\"barpolar\"}],\"bar\":[{\"error_x\":{\"color\":\"#2a3f5f\"},\"error_y\":{\"color\":\"#2a3f5f\"},\"marker\":{\"line\":{\"color\":\"#E5ECF6\",\"width\":0.5},\"pattern\":{\"fillmode\":\"overlay\",\"size\":10,\"solidity\":0.2}},\"type\":\"bar\"}],\"carpet\":[{\"aaxis\":{\"endlinecolor\":\"#2a3f5f\",\"gridcolor\":\"white\",\"linecolor\":\"white\",\"minorgridcolor\":\"white\",\"startlinecolor\":\"#2a3f5f\"},\"baxis\":{\"endlinecolor\":\"#2a3f5f\",\"gridcolor\":\"white\",\"linecolor\":\"white\",\"minorgridcolor\":\"white\",\"startlinecolor\":\"#2a3f5f\"},\"type\":\"carpet\"}],\"choropleth\":[{\"colorbar\":{\"outlinewidth\":0,\"ticks\":\"\"},\"type\":\"choropleth\"}],\"contourcarpet\":[{\"colorbar\":{\"outlinewidth\":0,\"ticks\":\"\"},\"type\":\"contourcarpet\"}],\"contour\":[{\"colorbar\":{\"outlinewidth\":0,\"ticks\":\"\"},\"colorscale\":[[0.0,\"#0d0887\"],[0.1111111111111111,\"#46039f\"],[0.2222222222222222,\"#7201a8\"],[0.3333333333333333,\"#9c179e\"],[0.4444444444444444,\"#bd3786\"],[0.5555555555555556,\"#d8576b\"],[0.6666666666666666,\"#ed7953\"],[0.7777777777777778,\"#fb9f3a\"],[0.8888888888888888,\"#fdca26\"],[1.0,\"#f0f921\"]],\"type\":\"contour\"}],\"heatmapgl\":[{\"colorbar\":{\"outlinewidth\":0,\"ticks\":\"\"},\"colorscale\":[[0.0,\"#0d0887\"],[0.1111111111111111,\"#46039f\"],[0.2222222222222222,\"#7201a8\"],[0.3333333333333333,\"#9c179e\"],[0.4444444444444444,\"#bd3786\"],[0.5555555555555556,\"#d8576b\"],[0.6666666666666666,\"#ed7953\"],[0.7777777777777778,\"#fb9f3a\"],[0.8888888888888888,\"#fdca26\"],[1.0,\"#f0f921\"]],\"type\":\"heatmapgl\"}],\"heatmap\":[{\"colorbar\":{\"outlinewidth\":0,\"ticks\":\"\"},\"colorscale\":[[0.0,\"#0d0887\"],[0.1111111111111111,\"#46039f\"],[0.2222222222222222,\"#7201a8\"],[0.3333333333333333,\"#9c179e\"],[0.4444444444444444,\"#bd3786\"],[0.5555555555555556,\"#d8576b\"],[0.6666666666666666,\"#ed7953\"],[0.7777777777777778,\"#fb9f3a\"],[0.8888888888888888,\"#fdca26\"],[1.0,\"#f0f921\"]],\"type\":\"heatmap\"}],\"histogram2dcontour\":[{\"colorbar\":{\"outlinewidth\":0,\"ticks\":\"\"},\"colorscale\":[[0.0,\"#0d0887\"],[0.1111111111111111,\"#46039f\"],[0.2222222222222222,\"#7201a8\"],[0.3333333333333333,\"#9c179e\"],[0.4444444444444444,\"#bd3786\"],[0.5555555555555556,\"#d8576b\"],[0.6666666666666666,\"#ed7953\"],[0.7777777777777778,\"#fb9f3a\"],[0.8888888888888888,\"#fdca26\"],[1.0,\"#f0f921\"]],\"type\":\"histogram2dcontour\"}],\"histogram2d\":[{\"colorbar\":{\"outlinewidth\":0,\"ticks\":\"\"},\"colorscale\":[[0.0,\"#0d0887\"],[0.1111111111111111,\"#46039f\"],[0.2222222222222222,\"#7201a8\"],[0.3333333333333333,\"#9c179e\"],[0.4444444444444444,\"#bd3786\"],[0.5555555555555556,\"#d8576b\"],[0.6666666666666666,\"#ed7953\"],[0.7777777777777778,\"#fb9f3a\"],[0.8888888888888888,\"#fdca26\"],[1.0,\"#f0f921\"]],\"type\":\"histogram2d\"}],\"histogram\":[{\"marker\":{\"pattern\":{\"fillmode\":\"overlay\",\"size\":10,\"solidity\":0.2}},\"type\":\"histogram\"}],\"mesh3d\":[{\"colorbar\":{\"outlinewidth\":0,\"ticks\":\"\"},\"type\":\"mesh3d\"}],\"parcoords\":[{\"line\":{\"colorbar\":{\"outlinewidth\":0,\"ticks\":\"\"}},\"type\":\"parcoords\"}],\"pie\":[{\"automargin\":true,\"type\":\"pie\"}],\"scatter3d\":[{\"line\":{\"colorbar\":{\"outlinewidth\":0,\"ticks\":\"\"}},\"marker\":{\"colorbar\":{\"outlinewidth\":0,\"ticks\":\"\"}},\"type\":\"scatter3d\"}],\"scattercarpet\":[{\"marker\":{\"colorbar\":{\"outlinewidth\":0,\"ticks\":\"\"}},\"type\":\"scattercarpet\"}],\"scattergeo\":[{\"marker\":{\"colorbar\":{\"outlinewidth\":0,\"ticks\":\"\"}},\"type\":\"scattergeo\"}],\"scattergl\":[{\"marker\":{\"colorbar\":{\"outlinewidth\":0,\"ticks\":\"\"}},\"type\":\"scattergl\"}],\"scattermapbox\":[{\"marker\":{\"colorbar\":{\"outlinewidth\":0,\"ticks\":\"\"}},\"type\":\"scattermapbox\"}],\"scatterpolargl\":[{\"marker\":{\"colorbar\":{\"outlinewidth\":0,\"ticks\":\"\"}},\"type\":\"scatterpolargl\"}],\"scatterpolar\":[{\"marker\":{\"colorbar\":{\"outlinewidth\":0,\"ticks\":\"\"}},\"type\":\"scatterpolar\"}],\"scatter\":[{\"fillpattern\":{\"fillmode\":\"overlay\",\"size\":10,\"solidity\":0.2},\"type\":\"scatter\"}],\"scatterternary\":[{\"marker\":{\"colorbar\":{\"outlinewidth\":0,\"ticks\":\"\"}},\"type\":\"scatterternary\"}],\"surface\":[{\"colorbar\":{\"outlinewidth\":0,\"ticks\":\"\"},\"colorscale\":[[0.0,\"#0d0887\"],[0.1111111111111111,\"#46039f\"],[0.2222222222222222,\"#7201a8\"],[0.3333333333333333,\"#9c179e\"],[0.4444444444444444,\"#bd3786\"],[0.5555555555555556,\"#d8576b\"],[0.6666666666666666,\"#ed7953\"],[0.7777777777777778,\"#fb9f3a\"],[0.8888888888888888,\"#fdca26\"],[1.0,\"#f0f921\"]],\"type\":\"surface\"}],\"table\":[{\"cells\":{\"fill\":{\"color\":\"#EBF0F8\"},\"line\":{\"color\":\"white\"}},\"header\":{\"fill\":{\"color\":\"#C8D4E3\"},\"line\":{\"color\":\"white\"}},\"type\":\"table\"}]},\"layout\":{\"annotationdefaults\":{\"arrowcolor\":\"#2a3f5f\",\"arrowhead\":0,\"arrowwidth\":1},\"autotypenumbers\":\"strict\",\"coloraxis\":{\"colorbar\":{\"outlinewidth\":0,\"ticks\":\"\"}},\"colorscale\":{\"diverging\":[[0,\"#8e0152\"],[0.1,\"#c51b7d\"],[0.2,\"#de77ae\"],[0.3,\"#f1b6da\"],[0.4,\"#fde0ef\"],[0.5,\"#f7f7f7\"],[0.6,\"#e6f5d0\"],[0.7,\"#b8e186\"],[0.8,\"#7fbc41\"],[0.9,\"#4d9221\"],[1,\"#276419\"]],\"sequential\":[[0.0,\"#0d0887\"],[0.1111111111111111,\"#46039f\"],[0.2222222222222222,\"#7201a8\"],[0.3333333333333333,\"#9c179e\"],[0.4444444444444444,\"#bd3786\"],[0.5555555555555556,\"#d8576b\"],[0.6666666666666666,\"#ed7953\"],[0.7777777777777778,\"#fb9f3a\"],[0.8888888888888888,\"#fdca26\"],[1.0,\"#f0f921\"]],\"sequentialminus\":[[0.0,\"#0d0887\"],[0.1111111111111111,\"#46039f\"],[0.2222222222222222,\"#7201a8\"],[0.3333333333333333,\"#9c179e\"],[0.4444444444444444,\"#bd3786\"],[0.5555555555555556,\"#d8576b\"],[0.6666666666666666,\"#ed7953\"],[0.7777777777777778,\"#fb9f3a\"],[0.8888888888888888,\"#fdca26\"],[1.0,\"#f0f921\"]]},\"colorway\":[\"#636efa\",\"#EF553B\",\"#00cc96\",\"#ab63fa\",\"#FFA15A\",\"#19d3f3\",\"#FF6692\",\"#B6E880\",\"#FF97FF\",\"#FECB52\"],\"font\":{\"color\":\"#2a3f5f\"},\"geo\":{\"bgcolor\":\"white\",\"lakecolor\":\"white\",\"landcolor\":\"#E5ECF6\",\"showlakes\":true,\"showland\":true,\"subunitcolor\":\"white\"},\"hoverlabel\":{\"align\":\"left\"},\"hovermode\":\"closest\",\"mapbox\":{\"style\":\"light\"},\"paper_bgcolor\":\"white\",\"plot_bgcolor\":\"#E5ECF6\",\"polar\":{\"angularaxis\":{\"gridcolor\":\"white\",\"linecolor\":\"white\",\"ticks\":\"\"},\"bgcolor\":\"#E5ECF6\",\"radialaxis\":{\"gridcolor\":\"white\",\"linecolor\":\"white\",\"ticks\":\"\"}},\"scene\":{\"xaxis\":{\"backgroundcolor\":\"#E5ECF6\",\"gridcolor\":\"white\",\"gridwidth\":2,\"linecolor\":\"white\",\"showbackground\":true,\"ticks\":\"\",\"zerolinecolor\":\"white\"},\"yaxis\":{\"backgroundcolor\":\"#E5ECF6\",\"gridcolor\":\"white\",\"gridwidth\":2,\"linecolor\":\"white\",\"showbackground\":true,\"ticks\":\"\",\"zerolinecolor\":\"white\"},\"zaxis\":{\"backgroundcolor\":\"#E5ECF6\",\"gridcolor\":\"white\",\"gridwidth\":2,\"linecolor\":\"white\",\"showbackground\":true,\"ticks\":\"\",\"zerolinecolor\":\"white\"}},\"shapedefaults\":{\"line\":{\"color\":\"#2a3f5f\"}},\"ternary\":{\"aaxis\":{\"gridcolor\":\"white\",\"linecolor\":\"white\",\"ticks\":\"\"},\"baxis\":{\"gridcolor\":\"white\",\"linecolor\":\"white\",\"ticks\":\"\"},\"bgcolor\":\"#E5ECF6\",\"caxis\":{\"gridcolor\":\"white\",\"linecolor\":\"white\",\"ticks\":\"\"}},\"title\":{\"x\":0.05},\"xaxis\":{\"automargin\":true,\"gridcolor\":\"white\",\"linecolor\":\"white\",\"ticks\":\"\",\"title\":{\"standoff\":15},\"zerolinecolor\":\"white\",\"zerolinewidth\":2},\"yaxis\":{\"automargin\":true,\"gridcolor\":\"white\",\"linecolor\":\"white\",\"ticks\":\"\",\"title\":{\"standoff\":15},\"zerolinecolor\":\"white\",\"zerolinewidth\":2}}},\"title\":{\"text\":\"Average Employments Across States\"}},                        {\"responsive\": true}                    ).then(function(){\n",
       "                            \n",
       "var gd = document.getElementById('067cf895-db2f-4fff-975f-7688cebfbc60');\n",
       "var x = new MutationObserver(function (mutations, observer) {{\n",
       "        var display = window.getComputedStyle(gd).display;\n",
       "        if (!display || display === 'none') {{\n",
       "            console.log([gd, 'removed!']);\n",
       "            Plotly.purge(gd);\n",
       "            observer.disconnect();\n",
       "        }}\n",
       "}});\n",
       "\n",
       "// Listen for the removal of the full notebook cells\n",
       "var notebookContainer = gd.closest('#notebook-container');\n",
       "if (notebookContainer) {{\n",
       "    x.observe(notebookContainer, {childList: true});\n",
       "}}\n",
       "\n",
       "// Listen for the clearing of the current output cell\n",
       "var outputEl = gd.closest('.output');\n",
       "if (outputEl) {{\n",
       "    x.observe(outputEl, {childList: true});\n",
       "}}\n",
       "\n",
       "                        })                };                });            </script>        </div>"
      ]
     },
     "metadata": {},
     "output_type": "display_data"
    }
   ],
   "source": [
    "fig = go.Figure(data=go.Choropleth(\n",
    "    locations=target['code'], # Spatial coordinates\n",
    "    z = target['Total Mean'].astype(float), # Data to be color-coded\n",
    "    locationmode = 'USA-states', # set of locations match entries in `locations`\n",
    "    colorscale = 'Blues',\n",
    "    colorbar_title = \"Jobs by Number\"\n",
    "))\n",
    "\n",
    "fig.update_layout(\n",
    "    title_text = 'Average Employments Across States',\n",
    "    geo_scope='usa', # limite map scope to USA\n",
    ")\n",
    "\n",
    "\n",
    "pyo.iplot(fig, filename='Av_employ_1')"
   ]
  },
  {
   "cell_type": "code",
   "execution_count": 16,
   "id": "9f243785",
   "metadata": {},
   "outputs": [
    {
     "data": {
      "application/vnd.plotly.v1+json": {
       "config": {
        "linkText": "Export to plot.ly",
        "plotlyServerURL": "https://plot.ly",
        "showLink": false
       },
       "data": [
        {
         "coloraxis": "coloraxis",
         "geo": "geo",
         "hovertemplate": "code=%{location}<br>pre-during delta=%{z}<extra></extra>",
         "locationmode": "USA-states",
         "locations": [
          "AL",
          "AK",
          "AZ",
          "AR",
          "CA",
          "CO",
          "CT",
          "DE",
          "FL",
          "GA",
          "HI",
          "ID",
          "IL",
          "IN",
          "IA",
          "KS",
          "KY",
          "LA",
          "ME",
          "MD",
          "MA",
          "MI",
          "MN",
          "MS",
          "MO",
          "MT",
          "NE",
          "NV",
          "NH",
          "NJ",
          "NM",
          "NY",
          "NC",
          "ND",
          "OH",
          "OK",
          "OR",
          "PA",
          "RI",
          "SC",
          "SD",
          "TN",
          "TX",
          "UT",
          "VT",
          "VA",
          "WA",
          "WV",
          "WI",
          "WY"
         ],
         "name": "",
         "type": "choropleth",
         "z": [
          -0.010204229157488351,
          -0.028166564494924055,
          0.018573424375006673,
          -0.02030451178954554,
          -0.0662689626389488,
          -0.01980657446516019,
          -0.06588289214207173,
          -0.013792022126186946,
          -0.027380287804538668,
          -0.015569002910232721,
          -0.09592085022727022,
          0.026257456698587093,
          -0.06541022711856402,
          -0.036735796919819534,
          -0.044835691083478506,
          -0.01102042160008614,
          -0.03207799521507236,
          -0.04240583945168562,
          -0.0487578412887573,
          -0.052074029264983626,
          -0.06432168866176842,
          -0.06658230314857398,
          -0.02157774541727551,
          -0.03269154074839678,
          -0.02510854018801735,
          0.005209036604294453,
          -0.12598176007349018,
          -0.07339127506376475,
          -0.043938212951721664,
          -0.04213589043037764,
          -0.03999845412146576,
          -0.07254794062418451,
          -0.03294378939980865,
          -0.02621827435544363,
          -0.0427703086989929,
          -0.011869893434572933,
          -0.007461741302075882,
          -0.04146416867948381,
          -0.04133760130969192,
          -0.002001815393395211,
          0.004759002844652459,
          -0.021596473732322912,
          -0.008490431161541207,
          0.029832684104464394,
          -0.07034993752490803,
          -0.03469782560227684,
          -0.015493653794603407,
          -0.03584974759261514,
          -0.027261822489574216,
          -0.01955505943771552
         ]
        }
       ],
       "layout": {
        "coloraxis": {
         "cmid": 0,
         "colorbar": {
          "title": {
           "text": "pre-during delta"
          }
         },
         "colorscale": [
          [
           0,
           "rgb(103,0,31)"
          ],
          [
           0.1,
           "rgb(178,24,43)"
          ],
          [
           0.2,
           "rgb(214,96,77)"
          ],
          [
           0.3,
           "rgb(244,165,130)"
          ],
          [
           0.4,
           "rgb(253,219,199)"
          ],
          [
           0.5,
           "rgb(247,247,247)"
          ],
          [
           0.6,
           "rgb(209,229,240)"
          ],
          [
           0.7,
           "rgb(146,197,222)"
          ],
          [
           0.8,
           "rgb(67,147,195)"
          ],
          [
           0.9,
           "rgb(33,102,172)"
          ],
          [
           1,
           "rgb(5,48,97)"
          ]
         ]
        },
        "geo": {
         "domain": {
          "x": [
           0,
           1
          ],
          "y": [
           0,
           1
          ]
         },
         "fitbounds": "locations",
         "scope": "usa",
         "visible": false
        },
        "legend": {
         "tracegroupgap": 0
        },
        "template": {
         "data": {
          "bar": [
           {
            "error_x": {
             "color": "#2a3f5f"
            },
            "error_y": {
             "color": "#2a3f5f"
            },
            "marker": {
             "line": {
              "color": "#E5ECF6",
              "width": 0.5
             },
             "pattern": {
              "fillmode": "overlay",
              "size": 10,
              "solidity": 0.2
             }
            },
            "type": "bar"
           }
          ],
          "barpolar": [
           {
            "marker": {
             "line": {
              "color": "#E5ECF6",
              "width": 0.5
             },
             "pattern": {
              "fillmode": "overlay",
              "size": 10,
              "solidity": 0.2
             }
            },
            "type": "barpolar"
           }
          ],
          "carpet": [
           {
            "aaxis": {
             "endlinecolor": "#2a3f5f",
             "gridcolor": "white",
             "linecolor": "white",
             "minorgridcolor": "white",
             "startlinecolor": "#2a3f5f"
            },
            "baxis": {
             "endlinecolor": "#2a3f5f",
             "gridcolor": "white",
             "linecolor": "white",
             "minorgridcolor": "white",
             "startlinecolor": "#2a3f5f"
            },
            "type": "carpet"
           }
          ],
          "choropleth": [
           {
            "colorbar": {
             "outlinewidth": 0,
             "ticks": ""
            },
            "type": "choropleth"
           }
          ],
          "contour": [
           {
            "colorbar": {
             "outlinewidth": 0,
             "ticks": ""
            },
            "colorscale": [
             [
              0,
              "#0d0887"
             ],
             [
              0.1111111111111111,
              "#46039f"
             ],
             [
              0.2222222222222222,
              "#7201a8"
             ],
             [
              0.3333333333333333,
              "#9c179e"
             ],
             [
              0.4444444444444444,
              "#bd3786"
             ],
             [
              0.5555555555555556,
              "#d8576b"
             ],
             [
              0.6666666666666666,
              "#ed7953"
             ],
             [
              0.7777777777777778,
              "#fb9f3a"
             ],
             [
              0.8888888888888888,
              "#fdca26"
             ],
             [
              1,
              "#f0f921"
             ]
            ],
            "type": "contour"
           }
          ],
          "contourcarpet": [
           {
            "colorbar": {
             "outlinewidth": 0,
             "ticks": ""
            },
            "type": "contourcarpet"
           }
          ],
          "heatmap": [
           {
            "colorbar": {
             "outlinewidth": 0,
             "ticks": ""
            },
            "colorscale": [
             [
              0,
              "#0d0887"
             ],
             [
              0.1111111111111111,
              "#46039f"
             ],
             [
              0.2222222222222222,
              "#7201a8"
             ],
             [
              0.3333333333333333,
              "#9c179e"
             ],
             [
              0.4444444444444444,
              "#bd3786"
             ],
             [
              0.5555555555555556,
              "#d8576b"
             ],
             [
              0.6666666666666666,
              "#ed7953"
             ],
             [
              0.7777777777777778,
              "#fb9f3a"
             ],
             [
              0.8888888888888888,
              "#fdca26"
             ],
             [
              1,
              "#f0f921"
             ]
            ],
            "type": "heatmap"
           }
          ],
          "heatmapgl": [
           {
            "colorbar": {
             "outlinewidth": 0,
             "ticks": ""
            },
            "colorscale": [
             [
              0,
              "#0d0887"
             ],
             [
              0.1111111111111111,
              "#46039f"
             ],
             [
              0.2222222222222222,
              "#7201a8"
             ],
             [
              0.3333333333333333,
              "#9c179e"
             ],
             [
              0.4444444444444444,
              "#bd3786"
             ],
             [
              0.5555555555555556,
              "#d8576b"
             ],
             [
              0.6666666666666666,
              "#ed7953"
             ],
             [
              0.7777777777777778,
              "#fb9f3a"
             ],
             [
              0.8888888888888888,
              "#fdca26"
             ],
             [
              1,
              "#f0f921"
             ]
            ],
            "type": "heatmapgl"
           }
          ],
          "histogram": [
           {
            "marker": {
             "pattern": {
              "fillmode": "overlay",
              "size": 10,
              "solidity": 0.2
             }
            },
            "type": "histogram"
           }
          ],
          "histogram2d": [
           {
            "colorbar": {
             "outlinewidth": 0,
             "ticks": ""
            },
            "colorscale": [
             [
              0,
              "#0d0887"
             ],
             [
              0.1111111111111111,
              "#46039f"
             ],
             [
              0.2222222222222222,
              "#7201a8"
             ],
             [
              0.3333333333333333,
              "#9c179e"
             ],
             [
              0.4444444444444444,
              "#bd3786"
             ],
             [
              0.5555555555555556,
              "#d8576b"
             ],
             [
              0.6666666666666666,
              "#ed7953"
             ],
             [
              0.7777777777777778,
              "#fb9f3a"
             ],
             [
              0.8888888888888888,
              "#fdca26"
             ],
             [
              1,
              "#f0f921"
             ]
            ],
            "type": "histogram2d"
           }
          ],
          "histogram2dcontour": [
           {
            "colorbar": {
             "outlinewidth": 0,
             "ticks": ""
            },
            "colorscale": [
             [
              0,
              "#0d0887"
             ],
             [
              0.1111111111111111,
              "#46039f"
             ],
             [
              0.2222222222222222,
              "#7201a8"
             ],
             [
              0.3333333333333333,
              "#9c179e"
             ],
             [
              0.4444444444444444,
              "#bd3786"
             ],
             [
              0.5555555555555556,
              "#d8576b"
             ],
             [
              0.6666666666666666,
              "#ed7953"
             ],
             [
              0.7777777777777778,
              "#fb9f3a"
             ],
             [
              0.8888888888888888,
              "#fdca26"
             ],
             [
              1,
              "#f0f921"
             ]
            ],
            "type": "histogram2dcontour"
           }
          ],
          "mesh3d": [
           {
            "colorbar": {
             "outlinewidth": 0,
             "ticks": ""
            },
            "type": "mesh3d"
           }
          ],
          "parcoords": [
           {
            "line": {
             "colorbar": {
              "outlinewidth": 0,
              "ticks": ""
             }
            },
            "type": "parcoords"
           }
          ],
          "pie": [
           {
            "automargin": true,
            "type": "pie"
           }
          ],
          "scatter": [
           {
            "fillpattern": {
             "fillmode": "overlay",
             "size": 10,
             "solidity": 0.2
            },
            "type": "scatter"
           }
          ],
          "scatter3d": [
           {
            "line": {
             "colorbar": {
              "outlinewidth": 0,
              "ticks": ""
             }
            },
            "marker": {
             "colorbar": {
              "outlinewidth": 0,
              "ticks": ""
             }
            },
            "type": "scatter3d"
           }
          ],
          "scattercarpet": [
           {
            "marker": {
             "colorbar": {
              "outlinewidth": 0,
              "ticks": ""
             }
            },
            "type": "scattercarpet"
           }
          ],
          "scattergeo": [
           {
            "marker": {
             "colorbar": {
              "outlinewidth": 0,
              "ticks": ""
             }
            },
            "type": "scattergeo"
           }
          ],
          "scattergl": [
           {
            "marker": {
             "colorbar": {
              "outlinewidth": 0,
              "ticks": ""
             }
            },
            "type": "scattergl"
           }
          ],
          "scattermapbox": [
           {
            "marker": {
             "colorbar": {
              "outlinewidth": 0,
              "ticks": ""
             }
            },
            "type": "scattermapbox"
           }
          ],
          "scatterpolar": [
           {
            "marker": {
             "colorbar": {
              "outlinewidth": 0,
              "ticks": ""
             }
            },
            "type": "scatterpolar"
           }
          ],
          "scatterpolargl": [
           {
            "marker": {
             "colorbar": {
              "outlinewidth": 0,
              "ticks": ""
             }
            },
            "type": "scatterpolargl"
           }
          ],
          "scatterternary": [
           {
            "marker": {
             "colorbar": {
              "outlinewidth": 0,
              "ticks": ""
             }
            },
            "type": "scatterternary"
           }
          ],
          "surface": [
           {
            "colorbar": {
             "outlinewidth": 0,
             "ticks": ""
            },
            "colorscale": [
             [
              0,
              "#0d0887"
             ],
             [
              0.1111111111111111,
              "#46039f"
             ],
             [
              0.2222222222222222,
              "#7201a8"
             ],
             [
              0.3333333333333333,
              "#9c179e"
             ],
             [
              0.4444444444444444,
              "#bd3786"
             ],
             [
              0.5555555555555556,
              "#d8576b"
             ],
             [
              0.6666666666666666,
              "#ed7953"
             ],
             [
              0.7777777777777778,
              "#fb9f3a"
             ],
             [
              0.8888888888888888,
              "#fdca26"
             ],
             [
              1,
              "#f0f921"
             ]
            ],
            "type": "surface"
           }
          ],
          "table": [
           {
            "cells": {
             "fill": {
              "color": "#EBF0F8"
             },
             "line": {
              "color": "white"
             }
            },
            "header": {
             "fill": {
              "color": "#C8D4E3"
             },
             "line": {
              "color": "white"
             }
            },
            "type": "table"
           }
          ]
         },
         "layout": {
          "annotationdefaults": {
           "arrowcolor": "#2a3f5f",
           "arrowhead": 0,
           "arrowwidth": 1
          },
          "autotypenumbers": "strict",
          "coloraxis": {
           "colorbar": {
            "outlinewidth": 0,
            "ticks": ""
           }
          },
          "colorscale": {
           "diverging": [
            [
             0,
             "#8e0152"
            ],
            [
             0.1,
             "#c51b7d"
            ],
            [
             0.2,
             "#de77ae"
            ],
            [
             0.3,
             "#f1b6da"
            ],
            [
             0.4,
             "#fde0ef"
            ],
            [
             0.5,
             "#f7f7f7"
            ],
            [
             0.6,
             "#e6f5d0"
            ],
            [
             0.7,
             "#b8e186"
            ],
            [
             0.8,
             "#7fbc41"
            ],
            [
             0.9,
             "#4d9221"
            ],
            [
             1,
             "#276419"
            ]
           ],
           "sequential": [
            [
             0,
             "#0d0887"
            ],
            [
             0.1111111111111111,
             "#46039f"
            ],
            [
             0.2222222222222222,
             "#7201a8"
            ],
            [
             0.3333333333333333,
             "#9c179e"
            ],
            [
             0.4444444444444444,
             "#bd3786"
            ],
            [
             0.5555555555555556,
             "#d8576b"
            ],
            [
             0.6666666666666666,
             "#ed7953"
            ],
            [
             0.7777777777777778,
             "#fb9f3a"
            ],
            [
             0.8888888888888888,
             "#fdca26"
            ],
            [
             1,
             "#f0f921"
            ]
           ],
           "sequentialminus": [
            [
             0,
             "#0d0887"
            ],
            [
             0.1111111111111111,
             "#46039f"
            ],
            [
             0.2222222222222222,
             "#7201a8"
            ],
            [
             0.3333333333333333,
             "#9c179e"
            ],
            [
             0.4444444444444444,
             "#bd3786"
            ],
            [
             0.5555555555555556,
             "#d8576b"
            ],
            [
             0.6666666666666666,
             "#ed7953"
            ],
            [
             0.7777777777777778,
             "#fb9f3a"
            ],
            [
             0.8888888888888888,
             "#fdca26"
            ],
            [
             1,
             "#f0f921"
            ]
           ]
          },
          "colorway": [
           "#636efa",
           "#EF553B",
           "#00cc96",
           "#ab63fa",
           "#FFA15A",
           "#19d3f3",
           "#FF6692",
           "#B6E880",
           "#FF97FF",
           "#FECB52"
          ],
          "font": {
           "color": "#2a3f5f"
          },
          "geo": {
           "bgcolor": "white",
           "lakecolor": "white",
           "landcolor": "#E5ECF6",
           "showlakes": true,
           "showland": true,
           "subunitcolor": "white"
          },
          "hoverlabel": {
           "align": "left"
          },
          "hovermode": "closest",
          "mapbox": {
           "style": "light"
          },
          "paper_bgcolor": "white",
          "plot_bgcolor": "#E5ECF6",
          "polar": {
           "angularaxis": {
            "gridcolor": "white",
            "linecolor": "white",
            "ticks": ""
           },
           "bgcolor": "#E5ECF6",
           "radialaxis": {
            "gridcolor": "white",
            "linecolor": "white",
            "ticks": ""
           }
          },
          "scene": {
           "xaxis": {
            "backgroundcolor": "#E5ECF6",
            "gridcolor": "white",
            "gridwidth": 2,
            "linecolor": "white",
            "showbackground": true,
            "ticks": "",
            "zerolinecolor": "white"
           },
           "yaxis": {
            "backgroundcolor": "#E5ECF6",
            "gridcolor": "white",
            "gridwidth": 2,
            "linecolor": "white",
            "showbackground": true,
            "ticks": "",
            "zerolinecolor": "white"
           },
           "zaxis": {
            "backgroundcolor": "#E5ECF6",
            "gridcolor": "white",
            "gridwidth": 2,
            "linecolor": "white",
            "showbackground": true,
            "ticks": "",
            "zerolinecolor": "white"
           }
          },
          "shapedefaults": {
           "line": {
            "color": "#2a3f5f"
           }
          },
          "ternary": {
           "aaxis": {
            "gridcolor": "white",
            "linecolor": "white",
            "ticks": ""
           },
           "baxis": {
            "gridcolor": "white",
            "linecolor": "white",
            "ticks": ""
           },
           "bgcolor": "#E5ECF6",
           "caxis": {
            "gridcolor": "white",
            "linecolor": "white",
            "ticks": ""
           }
          },
          "title": {
           "x": 0.05
          },
          "xaxis": {
           "automargin": true,
           "gridcolor": "white",
           "linecolor": "white",
           "ticks": "",
           "title": {
            "standoff": 15
           },
           "zerolinecolor": "white",
           "zerolinewidth": 2
          },
          "yaxis": {
           "automargin": true,
           "gridcolor": "white",
           "linecolor": "white",
           "ticks": "",
           "title": {
            "standoff": 15
           },
           "zerolinecolor": "white",
           "zerolinewidth": 2
          }
         }
        },
        "title": {
         "text": "Employment Change: Pre-Pandemic to Pandemic"
        }
       }
      },
      "text/html": [
       "<div>                            <div id=\"4f62a199-6c66-44f3-8e3e-dbdfd0863721\" class=\"plotly-graph-div\" style=\"height:525px; width:100%;\"></div>            <script type=\"text/javascript\">                require([\"plotly\"], function(Plotly) {                    window.PLOTLYENV=window.PLOTLYENV || {};                                    if (document.getElementById(\"4f62a199-6c66-44f3-8e3e-dbdfd0863721\")) {                    Plotly.newPlot(                        \"4f62a199-6c66-44f3-8e3e-dbdfd0863721\",                        [{\"coloraxis\":\"coloraxis\",\"geo\":\"geo\",\"hovertemplate\":\"code=%{location}\\u003cbr\\u003epre-during delta=%{z}\\u003cextra\\u003e\\u003c\\u002fextra\\u003e\",\"locationmode\":\"USA-states\",\"locations\":[\"AL\",\"AK\",\"AZ\",\"AR\",\"CA\",\"CO\",\"CT\",\"DE\",\"FL\",\"GA\",\"HI\",\"ID\",\"IL\",\"IN\",\"IA\",\"KS\",\"KY\",\"LA\",\"ME\",\"MD\",\"MA\",\"MI\",\"MN\",\"MS\",\"MO\",\"MT\",\"NE\",\"NV\",\"NH\",\"NJ\",\"NM\",\"NY\",\"NC\",\"ND\",\"OH\",\"OK\",\"OR\",\"PA\",\"RI\",\"SC\",\"SD\",\"TN\",\"TX\",\"UT\",\"VT\",\"VA\",\"WA\",\"WV\",\"WI\",\"WY\"],\"name\":\"\",\"z\":[-0.010204229157488351,-0.028166564494924055,0.018573424375006673,-0.02030451178954554,-0.0662689626389488,-0.01980657446516019,-0.06588289214207173,-0.013792022126186946,-0.027380287804538668,-0.015569002910232721,-0.09592085022727022,0.026257456698587093,-0.06541022711856402,-0.036735796919819534,-0.044835691083478506,-0.01102042160008614,-0.03207799521507236,-0.04240583945168562,-0.0487578412887573,-0.052074029264983626,-0.06432168866176842,-0.06658230314857398,-0.02157774541727551,-0.03269154074839678,-0.02510854018801735,0.005209036604294453,-0.12598176007349018,-0.07339127506376475,-0.043938212951721664,-0.04213589043037764,-0.03999845412146576,-0.07254794062418451,-0.03294378939980865,-0.02621827435544363,-0.0427703086989929,-0.011869893434572933,-0.007461741302075882,-0.04146416867948381,-0.04133760130969192,-0.002001815393395211,0.004759002844652459,-0.021596473732322912,-0.008490431161541207,0.029832684104464394,-0.07034993752490803,-0.03469782560227684,-0.015493653794603407,-0.03584974759261514,-0.027261822489574216,-0.01955505943771552],\"type\":\"choropleth\"}],                        {\"coloraxis\":{\"cmid\":0,\"colorbar\":{\"title\":{\"text\":\"pre-during delta\"}},\"colorscale\":[[0.0,\"rgb(103,0,31)\"],[0.1,\"rgb(178,24,43)\"],[0.2,\"rgb(214,96,77)\"],[0.3,\"rgb(244,165,130)\"],[0.4,\"rgb(253,219,199)\"],[0.5,\"rgb(247,247,247)\"],[0.6,\"rgb(209,229,240)\"],[0.7,\"rgb(146,197,222)\"],[0.8,\"rgb(67,147,195)\"],[0.9,\"rgb(33,102,172)\"],[1.0,\"rgb(5,48,97)\"]]},\"geo\":{\"domain\":{\"x\":[0.0,1.0],\"y\":[0.0,1.0]},\"fitbounds\":\"locations\",\"scope\":\"usa\",\"visible\":false},\"legend\":{\"tracegroupgap\":0},\"template\":{\"data\":{\"barpolar\":[{\"marker\":{\"line\":{\"color\":\"#E5ECF6\",\"width\":0.5},\"pattern\":{\"fillmode\":\"overlay\",\"size\":10,\"solidity\":0.2}},\"type\":\"barpolar\"}],\"bar\":[{\"error_x\":{\"color\":\"#2a3f5f\"},\"error_y\":{\"color\":\"#2a3f5f\"},\"marker\":{\"line\":{\"color\":\"#E5ECF6\",\"width\":0.5},\"pattern\":{\"fillmode\":\"overlay\",\"size\":10,\"solidity\":0.2}},\"type\":\"bar\"}],\"carpet\":[{\"aaxis\":{\"endlinecolor\":\"#2a3f5f\",\"gridcolor\":\"white\",\"linecolor\":\"white\",\"minorgridcolor\":\"white\",\"startlinecolor\":\"#2a3f5f\"},\"baxis\":{\"endlinecolor\":\"#2a3f5f\",\"gridcolor\":\"white\",\"linecolor\":\"white\",\"minorgridcolor\":\"white\",\"startlinecolor\":\"#2a3f5f\"},\"type\":\"carpet\"}],\"choropleth\":[{\"colorbar\":{\"outlinewidth\":0,\"ticks\":\"\"},\"type\":\"choropleth\"}],\"contourcarpet\":[{\"colorbar\":{\"outlinewidth\":0,\"ticks\":\"\"},\"type\":\"contourcarpet\"}],\"contour\":[{\"colorbar\":{\"outlinewidth\":0,\"ticks\":\"\"},\"colorscale\":[[0.0,\"#0d0887\"],[0.1111111111111111,\"#46039f\"],[0.2222222222222222,\"#7201a8\"],[0.3333333333333333,\"#9c179e\"],[0.4444444444444444,\"#bd3786\"],[0.5555555555555556,\"#d8576b\"],[0.6666666666666666,\"#ed7953\"],[0.7777777777777778,\"#fb9f3a\"],[0.8888888888888888,\"#fdca26\"],[1.0,\"#f0f921\"]],\"type\":\"contour\"}],\"heatmapgl\":[{\"colorbar\":{\"outlinewidth\":0,\"ticks\":\"\"},\"colorscale\":[[0.0,\"#0d0887\"],[0.1111111111111111,\"#46039f\"],[0.2222222222222222,\"#7201a8\"],[0.3333333333333333,\"#9c179e\"],[0.4444444444444444,\"#bd3786\"],[0.5555555555555556,\"#d8576b\"],[0.6666666666666666,\"#ed7953\"],[0.7777777777777778,\"#fb9f3a\"],[0.8888888888888888,\"#fdca26\"],[1.0,\"#f0f921\"]],\"type\":\"heatmapgl\"}],\"heatmap\":[{\"colorbar\":{\"outlinewidth\":0,\"ticks\":\"\"},\"colorscale\":[[0.0,\"#0d0887\"],[0.1111111111111111,\"#46039f\"],[0.2222222222222222,\"#7201a8\"],[0.3333333333333333,\"#9c179e\"],[0.4444444444444444,\"#bd3786\"],[0.5555555555555556,\"#d8576b\"],[0.6666666666666666,\"#ed7953\"],[0.7777777777777778,\"#fb9f3a\"],[0.8888888888888888,\"#fdca26\"],[1.0,\"#f0f921\"]],\"type\":\"heatmap\"}],\"histogram2dcontour\":[{\"colorbar\":{\"outlinewidth\":0,\"ticks\":\"\"},\"colorscale\":[[0.0,\"#0d0887\"],[0.1111111111111111,\"#46039f\"],[0.2222222222222222,\"#7201a8\"],[0.3333333333333333,\"#9c179e\"],[0.4444444444444444,\"#bd3786\"],[0.5555555555555556,\"#d8576b\"],[0.6666666666666666,\"#ed7953\"],[0.7777777777777778,\"#fb9f3a\"],[0.8888888888888888,\"#fdca26\"],[1.0,\"#f0f921\"]],\"type\":\"histogram2dcontour\"}],\"histogram2d\":[{\"colorbar\":{\"outlinewidth\":0,\"ticks\":\"\"},\"colorscale\":[[0.0,\"#0d0887\"],[0.1111111111111111,\"#46039f\"],[0.2222222222222222,\"#7201a8\"],[0.3333333333333333,\"#9c179e\"],[0.4444444444444444,\"#bd3786\"],[0.5555555555555556,\"#d8576b\"],[0.6666666666666666,\"#ed7953\"],[0.7777777777777778,\"#fb9f3a\"],[0.8888888888888888,\"#fdca26\"],[1.0,\"#f0f921\"]],\"type\":\"histogram2d\"}],\"histogram\":[{\"marker\":{\"pattern\":{\"fillmode\":\"overlay\",\"size\":10,\"solidity\":0.2}},\"type\":\"histogram\"}],\"mesh3d\":[{\"colorbar\":{\"outlinewidth\":0,\"ticks\":\"\"},\"type\":\"mesh3d\"}],\"parcoords\":[{\"line\":{\"colorbar\":{\"outlinewidth\":0,\"ticks\":\"\"}},\"type\":\"parcoords\"}],\"pie\":[{\"automargin\":true,\"type\":\"pie\"}],\"scatter3d\":[{\"line\":{\"colorbar\":{\"outlinewidth\":0,\"ticks\":\"\"}},\"marker\":{\"colorbar\":{\"outlinewidth\":0,\"ticks\":\"\"}},\"type\":\"scatter3d\"}],\"scattercarpet\":[{\"marker\":{\"colorbar\":{\"outlinewidth\":0,\"ticks\":\"\"}},\"type\":\"scattercarpet\"}],\"scattergeo\":[{\"marker\":{\"colorbar\":{\"outlinewidth\":0,\"ticks\":\"\"}},\"type\":\"scattergeo\"}],\"scattergl\":[{\"marker\":{\"colorbar\":{\"outlinewidth\":0,\"ticks\":\"\"}},\"type\":\"scattergl\"}],\"scattermapbox\":[{\"marker\":{\"colorbar\":{\"outlinewidth\":0,\"ticks\":\"\"}},\"type\":\"scattermapbox\"}],\"scatterpolargl\":[{\"marker\":{\"colorbar\":{\"outlinewidth\":0,\"ticks\":\"\"}},\"type\":\"scatterpolargl\"}],\"scatterpolar\":[{\"marker\":{\"colorbar\":{\"outlinewidth\":0,\"ticks\":\"\"}},\"type\":\"scatterpolar\"}],\"scatter\":[{\"fillpattern\":{\"fillmode\":\"overlay\",\"size\":10,\"solidity\":0.2},\"type\":\"scatter\"}],\"scatterternary\":[{\"marker\":{\"colorbar\":{\"outlinewidth\":0,\"ticks\":\"\"}},\"type\":\"scatterternary\"}],\"surface\":[{\"colorbar\":{\"outlinewidth\":0,\"ticks\":\"\"},\"colorscale\":[[0.0,\"#0d0887\"],[0.1111111111111111,\"#46039f\"],[0.2222222222222222,\"#7201a8\"],[0.3333333333333333,\"#9c179e\"],[0.4444444444444444,\"#bd3786\"],[0.5555555555555556,\"#d8576b\"],[0.6666666666666666,\"#ed7953\"],[0.7777777777777778,\"#fb9f3a\"],[0.8888888888888888,\"#fdca26\"],[1.0,\"#f0f921\"]],\"type\":\"surface\"}],\"table\":[{\"cells\":{\"fill\":{\"color\":\"#EBF0F8\"},\"line\":{\"color\":\"white\"}},\"header\":{\"fill\":{\"color\":\"#C8D4E3\"},\"line\":{\"color\":\"white\"}},\"type\":\"table\"}]},\"layout\":{\"annotationdefaults\":{\"arrowcolor\":\"#2a3f5f\",\"arrowhead\":0,\"arrowwidth\":1},\"autotypenumbers\":\"strict\",\"coloraxis\":{\"colorbar\":{\"outlinewidth\":0,\"ticks\":\"\"}},\"colorscale\":{\"diverging\":[[0,\"#8e0152\"],[0.1,\"#c51b7d\"],[0.2,\"#de77ae\"],[0.3,\"#f1b6da\"],[0.4,\"#fde0ef\"],[0.5,\"#f7f7f7\"],[0.6,\"#e6f5d0\"],[0.7,\"#b8e186\"],[0.8,\"#7fbc41\"],[0.9,\"#4d9221\"],[1,\"#276419\"]],\"sequential\":[[0.0,\"#0d0887\"],[0.1111111111111111,\"#46039f\"],[0.2222222222222222,\"#7201a8\"],[0.3333333333333333,\"#9c179e\"],[0.4444444444444444,\"#bd3786\"],[0.5555555555555556,\"#d8576b\"],[0.6666666666666666,\"#ed7953\"],[0.7777777777777778,\"#fb9f3a\"],[0.8888888888888888,\"#fdca26\"],[1.0,\"#f0f921\"]],\"sequentialminus\":[[0.0,\"#0d0887\"],[0.1111111111111111,\"#46039f\"],[0.2222222222222222,\"#7201a8\"],[0.3333333333333333,\"#9c179e\"],[0.4444444444444444,\"#bd3786\"],[0.5555555555555556,\"#d8576b\"],[0.6666666666666666,\"#ed7953\"],[0.7777777777777778,\"#fb9f3a\"],[0.8888888888888888,\"#fdca26\"],[1.0,\"#f0f921\"]]},\"colorway\":[\"#636efa\",\"#EF553B\",\"#00cc96\",\"#ab63fa\",\"#FFA15A\",\"#19d3f3\",\"#FF6692\",\"#B6E880\",\"#FF97FF\",\"#FECB52\"],\"font\":{\"color\":\"#2a3f5f\"},\"geo\":{\"bgcolor\":\"white\",\"lakecolor\":\"white\",\"landcolor\":\"#E5ECF6\",\"showlakes\":true,\"showland\":true,\"subunitcolor\":\"white\"},\"hoverlabel\":{\"align\":\"left\"},\"hovermode\":\"closest\",\"mapbox\":{\"style\":\"light\"},\"paper_bgcolor\":\"white\",\"plot_bgcolor\":\"#E5ECF6\",\"polar\":{\"angularaxis\":{\"gridcolor\":\"white\",\"linecolor\":\"white\",\"ticks\":\"\"},\"bgcolor\":\"#E5ECF6\",\"radialaxis\":{\"gridcolor\":\"white\",\"linecolor\":\"white\",\"ticks\":\"\"}},\"scene\":{\"xaxis\":{\"backgroundcolor\":\"#E5ECF6\",\"gridcolor\":\"white\",\"gridwidth\":2,\"linecolor\":\"white\",\"showbackground\":true,\"ticks\":\"\",\"zerolinecolor\":\"white\"},\"yaxis\":{\"backgroundcolor\":\"#E5ECF6\",\"gridcolor\":\"white\",\"gridwidth\":2,\"linecolor\":\"white\",\"showbackground\":true,\"ticks\":\"\",\"zerolinecolor\":\"white\"},\"zaxis\":{\"backgroundcolor\":\"#E5ECF6\",\"gridcolor\":\"white\",\"gridwidth\":2,\"linecolor\":\"white\",\"showbackground\":true,\"ticks\":\"\",\"zerolinecolor\":\"white\"}},\"shapedefaults\":{\"line\":{\"color\":\"#2a3f5f\"}},\"ternary\":{\"aaxis\":{\"gridcolor\":\"white\",\"linecolor\":\"white\",\"ticks\":\"\"},\"baxis\":{\"gridcolor\":\"white\",\"linecolor\":\"white\",\"ticks\":\"\"},\"bgcolor\":\"#E5ECF6\",\"caxis\":{\"gridcolor\":\"white\",\"linecolor\":\"white\",\"ticks\":\"\"}},\"title\":{\"x\":0.05},\"xaxis\":{\"automargin\":true,\"gridcolor\":\"white\",\"linecolor\":\"white\",\"ticks\":\"\",\"title\":{\"standoff\":15},\"zerolinecolor\":\"white\",\"zerolinewidth\":2},\"yaxis\":{\"automargin\":true,\"gridcolor\":\"white\",\"linecolor\":\"white\",\"ticks\":\"\",\"title\":{\"standoff\":15},\"zerolinecolor\":\"white\",\"zerolinewidth\":2}}},\"title\":{\"text\":\"Employment Change: Pre-Pandemic to Pandemic\"}},                        {\"responsive\": true}                    ).then(function(){\n",
       "                            \n",
       "var gd = document.getElementById('4f62a199-6c66-44f3-8e3e-dbdfd0863721');\n",
       "var x = new MutationObserver(function (mutations, observer) {{\n",
       "        var display = window.getComputedStyle(gd).display;\n",
       "        if (!display || display === 'none') {{\n",
       "            console.log([gd, 'removed!']);\n",
       "            Plotly.purge(gd);\n",
       "            observer.disconnect();\n",
       "        }}\n",
       "}});\n",
       "\n",
       "// Listen for the removal of the full notebook cells\n",
       "var notebookContainer = gd.closest('#notebook-container');\n",
       "if (notebookContainer) {{\n",
       "    x.observe(notebookContainer, {childList: true});\n",
       "}}\n",
       "\n",
       "// Listen for the clearing of the current output cell\n",
       "var outputEl = gd.closest('.output');\n",
       "if (outputEl) {{\n",
       "    x.observe(outputEl, {childList: true});\n",
       "}}\n",
       "\n",
       "                        })                };                });            </script>        </div>"
      ]
     },
     "metadata": {},
     "output_type": "display_data"
    }
   ],
   "source": [
    "fig = px.choropleth(target, locations='code', color='pre-during delta',\n",
    "                    locationmode = 'USA-states',\n",
    "                    color_continuous_scale=px.colors.diverging.RdBu,\n",
    "                    color_continuous_midpoint=0,\n",
    "                    title='Employment Change: Pre-Pandemic to Pandemic')\n",
    "\n",
    "fig.update_geos(fitbounds=\"locations\", visible=False, scope=\"usa\")\n",
    "pyo.iplot(fig, filename='Av_employ_2')"
   ]
  },
  {
   "cell_type": "code",
   "execution_count": 17,
   "id": "5e01fcbb",
   "metadata": {},
   "outputs": [
    {
     "data": {
      "application/vnd.plotly.v1+json": {
       "config": {
        "linkText": "Export to plot.ly",
        "plotlyServerURL": "https://plot.ly",
        "showLink": false
       },
       "data": [
        {
         "coloraxis": "coloraxis",
         "geo": "geo",
         "hovertemplate": "code=%{location}<br>during-after delta=%{z}<extra></extra>",
         "locationmode": "USA-states",
         "locations": [
          "AL",
          "AK",
          "AZ",
          "AR",
          "CA",
          "CO",
          "CT",
          "DE",
          "FL",
          "GA",
          "HI",
          "ID",
          "IL",
          "IN",
          "IA",
          "KS",
          "KY",
          "LA",
          "ME",
          "MD",
          "MA",
          "MI",
          "MN",
          "MS",
          "MO",
          "MT",
          "NE",
          "NV",
          "NH",
          "NJ",
          "NM",
          "NY",
          "NC",
          "ND",
          "OH",
          "OK",
          "OR",
          "PA",
          "RI",
          "SC",
          "SD",
          "TN",
          "TX",
          "UT",
          "VT",
          "VA",
          "WA",
          "WV",
          "WI",
          "WY"
         ],
         "name": "",
         "type": "choropleth",
         "z": [
          0.03387765467727308,
          0.05570047918797426,
          0.06110337535699237,
          0.038725547469212876,
          0.0648604621976458,
          0.05814203824542646,
          0.06688261358412584,
          0.034788772518475,
          0.09037758933459164,
          0.04148910347780424,
          0.07406244295122771,
          0.06006266240005359,
          0.052637094696573024,
          0.04404397394469296,
          0.03936377657495055,
          0.021967736681016148,
          0.030088525435908092,
          0.04615868050751011,
          0.015906761646395654,
          0.01661783532170417,
          0.03944819996442095,
          0.043692926209581845,
          0.022262486674328223,
          0.03035220415670203,
          0.03309666633790841,
          0.05774139991935516,
          0.21860233158223882,
          0.08693598001351596,
          0.035046202102896634,
          0.06569639861256595,
          0.047940162637120656,
          0.05062438769148822,
          0.08041634209975268,
          0.03234303817497905,
          0.028940944808025053,
          0.04215471298963508,
          0.04721148367481025,
          0.03334715196845915,
          0.04280878782398391,
          0.031376329911085285,
          0.03151380625830481,
          0.04012624891299286,
          0.0681335238551223,
          0.0608823983730843,
          0.03480074989632233,
          0.04768042623842438,
          0.04726338045553786,
          0.03720783300366015,
          0.018036903814053044,
          0.018998073223542248
         ]
        }
       ],
       "layout": {
        "coloraxis": {
         "cmid": 0,
         "colorbar": {
          "title": {
           "text": "during-after delta"
          }
         },
         "colorscale": [
          [
           0,
           "rgb(103,0,31)"
          ],
          [
           0.1,
           "rgb(178,24,43)"
          ],
          [
           0.2,
           "rgb(214,96,77)"
          ],
          [
           0.3,
           "rgb(244,165,130)"
          ],
          [
           0.4,
           "rgb(253,219,199)"
          ],
          [
           0.5,
           "rgb(247,247,247)"
          ],
          [
           0.6,
           "rgb(209,229,240)"
          ],
          [
           0.7,
           "rgb(146,197,222)"
          ],
          [
           0.8,
           "rgb(67,147,195)"
          ],
          [
           0.9,
           "rgb(33,102,172)"
          ],
          [
           1,
           "rgb(5,48,97)"
          ]
         ]
        },
        "geo": {
         "domain": {
          "x": [
           0,
           1
          ],
          "y": [
           0,
           1
          ]
         },
         "fitbounds": "locations",
         "scope": "usa",
         "visible": false
        },
        "legend": {
         "tracegroupgap": 0
        },
        "template": {
         "data": {
          "bar": [
           {
            "error_x": {
             "color": "#2a3f5f"
            },
            "error_y": {
             "color": "#2a3f5f"
            },
            "marker": {
             "line": {
              "color": "#E5ECF6",
              "width": 0.5
             },
             "pattern": {
              "fillmode": "overlay",
              "size": 10,
              "solidity": 0.2
             }
            },
            "type": "bar"
           }
          ],
          "barpolar": [
           {
            "marker": {
             "line": {
              "color": "#E5ECF6",
              "width": 0.5
             },
             "pattern": {
              "fillmode": "overlay",
              "size": 10,
              "solidity": 0.2
             }
            },
            "type": "barpolar"
           }
          ],
          "carpet": [
           {
            "aaxis": {
             "endlinecolor": "#2a3f5f",
             "gridcolor": "white",
             "linecolor": "white",
             "minorgridcolor": "white",
             "startlinecolor": "#2a3f5f"
            },
            "baxis": {
             "endlinecolor": "#2a3f5f",
             "gridcolor": "white",
             "linecolor": "white",
             "minorgridcolor": "white",
             "startlinecolor": "#2a3f5f"
            },
            "type": "carpet"
           }
          ],
          "choropleth": [
           {
            "colorbar": {
             "outlinewidth": 0,
             "ticks": ""
            },
            "type": "choropleth"
           }
          ],
          "contour": [
           {
            "colorbar": {
             "outlinewidth": 0,
             "ticks": ""
            },
            "colorscale": [
             [
              0,
              "#0d0887"
             ],
             [
              0.1111111111111111,
              "#46039f"
             ],
             [
              0.2222222222222222,
              "#7201a8"
             ],
             [
              0.3333333333333333,
              "#9c179e"
             ],
             [
              0.4444444444444444,
              "#bd3786"
             ],
             [
              0.5555555555555556,
              "#d8576b"
             ],
             [
              0.6666666666666666,
              "#ed7953"
             ],
             [
              0.7777777777777778,
              "#fb9f3a"
             ],
             [
              0.8888888888888888,
              "#fdca26"
             ],
             [
              1,
              "#f0f921"
             ]
            ],
            "type": "contour"
           }
          ],
          "contourcarpet": [
           {
            "colorbar": {
             "outlinewidth": 0,
             "ticks": ""
            },
            "type": "contourcarpet"
           }
          ],
          "heatmap": [
           {
            "colorbar": {
             "outlinewidth": 0,
             "ticks": ""
            },
            "colorscale": [
             [
              0,
              "#0d0887"
             ],
             [
              0.1111111111111111,
              "#46039f"
             ],
             [
              0.2222222222222222,
              "#7201a8"
             ],
             [
              0.3333333333333333,
              "#9c179e"
             ],
             [
              0.4444444444444444,
              "#bd3786"
             ],
             [
              0.5555555555555556,
              "#d8576b"
             ],
             [
              0.6666666666666666,
              "#ed7953"
             ],
             [
              0.7777777777777778,
              "#fb9f3a"
             ],
             [
              0.8888888888888888,
              "#fdca26"
             ],
             [
              1,
              "#f0f921"
             ]
            ],
            "type": "heatmap"
           }
          ],
          "heatmapgl": [
           {
            "colorbar": {
             "outlinewidth": 0,
             "ticks": ""
            },
            "colorscale": [
             [
              0,
              "#0d0887"
             ],
             [
              0.1111111111111111,
              "#46039f"
             ],
             [
              0.2222222222222222,
              "#7201a8"
             ],
             [
              0.3333333333333333,
              "#9c179e"
             ],
             [
              0.4444444444444444,
              "#bd3786"
             ],
             [
              0.5555555555555556,
              "#d8576b"
             ],
             [
              0.6666666666666666,
              "#ed7953"
             ],
             [
              0.7777777777777778,
              "#fb9f3a"
             ],
             [
              0.8888888888888888,
              "#fdca26"
             ],
             [
              1,
              "#f0f921"
             ]
            ],
            "type": "heatmapgl"
           }
          ],
          "histogram": [
           {
            "marker": {
             "pattern": {
              "fillmode": "overlay",
              "size": 10,
              "solidity": 0.2
             }
            },
            "type": "histogram"
           }
          ],
          "histogram2d": [
           {
            "colorbar": {
             "outlinewidth": 0,
             "ticks": ""
            },
            "colorscale": [
             [
              0,
              "#0d0887"
             ],
             [
              0.1111111111111111,
              "#46039f"
             ],
             [
              0.2222222222222222,
              "#7201a8"
             ],
             [
              0.3333333333333333,
              "#9c179e"
             ],
             [
              0.4444444444444444,
              "#bd3786"
             ],
             [
              0.5555555555555556,
              "#d8576b"
             ],
             [
              0.6666666666666666,
              "#ed7953"
             ],
             [
              0.7777777777777778,
              "#fb9f3a"
             ],
             [
              0.8888888888888888,
              "#fdca26"
             ],
             [
              1,
              "#f0f921"
             ]
            ],
            "type": "histogram2d"
           }
          ],
          "histogram2dcontour": [
           {
            "colorbar": {
             "outlinewidth": 0,
             "ticks": ""
            },
            "colorscale": [
             [
              0,
              "#0d0887"
             ],
             [
              0.1111111111111111,
              "#46039f"
             ],
             [
              0.2222222222222222,
              "#7201a8"
             ],
             [
              0.3333333333333333,
              "#9c179e"
             ],
             [
              0.4444444444444444,
              "#bd3786"
             ],
             [
              0.5555555555555556,
              "#d8576b"
             ],
             [
              0.6666666666666666,
              "#ed7953"
             ],
             [
              0.7777777777777778,
              "#fb9f3a"
             ],
             [
              0.8888888888888888,
              "#fdca26"
             ],
             [
              1,
              "#f0f921"
             ]
            ],
            "type": "histogram2dcontour"
           }
          ],
          "mesh3d": [
           {
            "colorbar": {
             "outlinewidth": 0,
             "ticks": ""
            },
            "type": "mesh3d"
           }
          ],
          "parcoords": [
           {
            "line": {
             "colorbar": {
              "outlinewidth": 0,
              "ticks": ""
             }
            },
            "type": "parcoords"
           }
          ],
          "pie": [
           {
            "automargin": true,
            "type": "pie"
           }
          ],
          "scatter": [
           {
            "fillpattern": {
             "fillmode": "overlay",
             "size": 10,
             "solidity": 0.2
            },
            "type": "scatter"
           }
          ],
          "scatter3d": [
           {
            "line": {
             "colorbar": {
              "outlinewidth": 0,
              "ticks": ""
             }
            },
            "marker": {
             "colorbar": {
              "outlinewidth": 0,
              "ticks": ""
             }
            },
            "type": "scatter3d"
           }
          ],
          "scattercarpet": [
           {
            "marker": {
             "colorbar": {
              "outlinewidth": 0,
              "ticks": ""
             }
            },
            "type": "scattercarpet"
           }
          ],
          "scattergeo": [
           {
            "marker": {
             "colorbar": {
              "outlinewidth": 0,
              "ticks": ""
             }
            },
            "type": "scattergeo"
           }
          ],
          "scattergl": [
           {
            "marker": {
             "colorbar": {
              "outlinewidth": 0,
              "ticks": ""
             }
            },
            "type": "scattergl"
           }
          ],
          "scattermapbox": [
           {
            "marker": {
             "colorbar": {
              "outlinewidth": 0,
              "ticks": ""
             }
            },
            "type": "scattermapbox"
           }
          ],
          "scatterpolar": [
           {
            "marker": {
             "colorbar": {
              "outlinewidth": 0,
              "ticks": ""
             }
            },
            "type": "scatterpolar"
           }
          ],
          "scatterpolargl": [
           {
            "marker": {
             "colorbar": {
              "outlinewidth": 0,
              "ticks": ""
             }
            },
            "type": "scatterpolargl"
           }
          ],
          "scatterternary": [
           {
            "marker": {
             "colorbar": {
              "outlinewidth": 0,
              "ticks": ""
             }
            },
            "type": "scatterternary"
           }
          ],
          "surface": [
           {
            "colorbar": {
             "outlinewidth": 0,
             "ticks": ""
            },
            "colorscale": [
             [
              0,
              "#0d0887"
             ],
             [
              0.1111111111111111,
              "#46039f"
             ],
             [
              0.2222222222222222,
              "#7201a8"
             ],
             [
              0.3333333333333333,
              "#9c179e"
             ],
             [
              0.4444444444444444,
              "#bd3786"
             ],
             [
              0.5555555555555556,
              "#d8576b"
             ],
             [
              0.6666666666666666,
              "#ed7953"
             ],
             [
              0.7777777777777778,
              "#fb9f3a"
             ],
             [
              0.8888888888888888,
              "#fdca26"
             ],
             [
              1,
              "#f0f921"
             ]
            ],
            "type": "surface"
           }
          ],
          "table": [
           {
            "cells": {
             "fill": {
              "color": "#EBF0F8"
             },
             "line": {
              "color": "white"
             }
            },
            "header": {
             "fill": {
              "color": "#C8D4E3"
             },
             "line": {
              "color": "white"
             }
            },
            "type": "table"
           }
          ]
         },
         "layout": {
          "annotationdefaults": {
           "arrowcolor": "#2a3f5f",
           "arrowhead": 0,
           "arrowwidth": 1
          },
          "autotypenumbers": "strict",
          "coloraxis": {
           "colorbar": {
            "outlinewidth": 0,
            "ticks": ""
           }
          },
          "colorscale": {
           "diverging": [
            [
             0,
             "#8e0152"
            ],
            [
             0.1,
             "#c51b7d"
            ],
            [
             0.2,
             "#de77ae"
            ],
            [
             0.3,
             "#f1b6da"
            ],
            [
             0.4,
             "#fde0ef"
            ],
            [
             0.5,
             "#f7f7f7"
            ],
            [
             0.6,
             "#e6f5d0"
            ],
            [
             0.7,
             "#b8e186"
            ],
            [
             0.8,
             "#7fbc41"
            ],
            [
             0.9,
             "#4d9221"
            ],
            [
             1,
             "#276419"
            ]
           ],
           "sequential": [
            [
             0,
             "#0d0887"
            ],
            [
             0.1111111111111111,
             "#46039f"
            ],
            [
             0.2222222222222222,
             "#7201a8"
            ],
            [
             0.3333333333333333,
             "#9c179e"
            ],
            [
             0.4444444444444444,
             "#bd3786"
            ],
            [
             0.5555555555555556,
             "#d8576b"
            ],
            [
             0.6666666666666666,
             "#ed7953"
            ],
            [
             0.7777777777777778,
             "#fb9f3a"
            ],
            [
             0.8888888888888888,
             "#fdca26"
            ],
            [
             1,
             "#f0f921"
            ]
           ],
           "sequentialminus": [
            [
             0,
             "#0d0887"
            ],
            [
             0.1111111111111111,
             "#46039f"
            ],
            [
             0.2222222222222222,
             "#7201a8"
            ],
            [
             0.3333333333333333,
             "#9c179e"
            ],
            [
             0.4444444444444444,
             "#bd3786"
            ],
            [
             0.5555555555555556,
             "#d8576b"
            ],
            [
             0.6666666666666666,
             "#ed7953"
            ],
            [
             0.7777777777777778,
             "#fb9f3a"
            ],
            [
             0.8888888888888888,
             "#fdca26"
            ],
            [
             1,
             "#f0f921"
            ]
           ]
          },
          "colorway": [
           "#636efa",
           "#EF553B",
           "#00cc96",
           "#ab63fa",
           "#FFA15A",
           "#19d3f3",
           "#FF6692",
           "#B6E880",
           "#FF97FF",
           "#FECB52"
          ],
          "font": {
           "color": "#2a3f5f"
          },
          "geo": {
           "bgcolor": "white",
           "lakecolor": "white",
           "landcolor": "#E5ECF6",
           "showlakes": true,
           "showland": true,
           "subunitcolor": "white"
          },
          "hoverlabel": {
           "align": "left"
          },
          "hovermode": "closest",
          "mapbox": {
           "style": "light"
          },
          "paper_bgcolor": "white",
          "plot_bgcolor": "#E5ECF6",
          "polar": {
           "angularaxis": {
            "gridcolor": "white",
            "linecolor": "white",
            "ticks": ""
           },
           "bgcolor": "#E5ECF6",
           "radialaxis": {
            "gridcolor": "white",
            "linecolor": "white",
            "ticks": ""
           }
          },
          "scene": {
           "xaxis": {
            "backgroundcolor": "#E5ECF6",
            "gridcolor": "white",
            "gridwidth": 2,
            "linecolor": "white",
            "showbackground": true,
            "ticks": "",
            "zerolinecolor": "white"
           },
           "yaxis": {
            "backgroundcolor": "#E5ECF6",
            "gridcolor": "white",
            "gridwidth": 2,
            "linecolor": "white",
            "showbackground": true,
            "ticks": "",
            "zerolinecolor": "white"
           },
           "zaxis": {
            "backgroundcolor": "#E5ECF6",
            "gridcolor": "white",
            "gridwidth": 2,
            "linecolor": "white",
            "showbackground": true,
            "ticks": "",
            "zerolinecolor": "white"
           }
          },
          "shapedefaults": {
           "line": {
            "color": "#2a3f5f"
           }
          },
          "ternary": {
           "aaxis": {
            "gridcolor": "white",
            "linecolor": "white",
            "ticks": ""
           },
           "baxis": {
            "gridcolor": "white",
            "linecolor": "white",
            "ticks": ""
           },
           "bgcolor": "#E5ECF6",
           "caxis": {
            "gridcolor": "white",
            "linecolor": "white",
            "ticks": ""
           }
          },
          "title": {
           "x": 0.05
          },
          "xaxis": {
           "automargin": true,
           "gridcolor": "white",
           "linecolor": "white",
           "ticks": "",
           "title": {
            "standoff": 15
           },
           "zerolinecolor": "white",
           "zerolinewidth": 2
          },
          "yaxis": {
           "automargin": true,
           "gridcolor": "white",
           "linecolor": "white",
           "ticks": "",
           "title": {
            "standoff": 15
           },
           "zerolinecolor": "white",
           "zerolinewidth": 2
          }
         }
        },
        "title": {
         "text": "Employment Change: During-to-Post Pandemic"
        }
       }
      },
      "text/html": [
       "<div>                            <div id=\"33944472-28cd-4d88-8419-73f15999cdb2\" class=\"plotly-graph-div\" style=\"height:525px; width:100%;\"></div>            <script type=\"text/javascript\">                require([\"plotly\"], function(Plotly) {                    window.PLOTLYENV=window.PLOTLYENV || {};                                    if (document.getElementById(\"33944472-28cd-4d88-8419-73f15999cdb2\")) {                    Plotly.newPlot(                        \"33944472-28cd-4d88-8419-73f15999cdb2\",                        [{\"coloraxis\":\"coloraxis\",\"geo\":\"geo\",\"hovertemplate\":\"code=%{location}\\u003cbr\\u003eduring-after delta=%{z}\\u003cextra\\u003e\\u003c\\u002fextra\\u003e\",\"locationmode\":\"USA-states\",\"locations\":[\"AL\",\"AK\",\"AZ\",\"AR\",\"CA\",\"CO\",\"CT\",\"DE\",\"FL\",\"GA\",\"HI\",\"ID\",\"IL\",\"IN\",\"IA\",\"KS\",\"KY\",\"LA\",\"ME\",\"MD\",\"MA\",\"MI\",\"MN\",\"MS\",\"MO\",\"MT\",\"NE\",\"NV\",\"NH\",\"NJ\",\"NM\",\"NY\",\"NC\",\"ND\",\"OH\",\"OK\",\"OR\",\"PA\",\"RI\",\"SC\",\"SD\",\"TN\",\"TX\",\"UT\",\"VT\",\"VA\",\"WA\",\"WV\",\"WI\",\"WY\"],\"name\":\"\",\"z\":[0.03387765467727308,0.05570047918797426,0.06110337535699237,0.038725547469212876,0.0648604621976458,0.05814203824542646,0.06688261358412584,0.034788772518475,0.09037758933459164,0.04148910347780424,0.07406244295122771,0.06006266240005359,0.052637094696573024,0.04404397394469296,0.03936377657495055,0.021967736681016148,0.030088525435908092,0.04615868050751011,0.015906761646395654,0.01661783532170417,0.03944819996442095,0.043692926209581845,0.022262486674328223,0.03035220415670203,0.03309666633790841,0.05774139991935516,0.21860233158223882,0.08693598001351596,0.035046202102896634,0.06569639861256595,0.047940162637120656,0.05062438769148822,0.08041634209975268,0.03234303817497905,0.028940944808025053,0.04215471298963508,0.04721148367481025,0.03334715196845915,0.04280878782398391,0.031376329911085285,0.03151380625830481,0.04012624891299286,0.0681335238551223,0.0608823983730843,0.03480074989632233,0.04768042623842438,0.04726338045553786,0.03720783300366015,0.018036903814053044,0.018998073223542248],\"type\":\"choropleth\"}],                        {\"coloraxis\":{\"cmid\":0,\"colorbar\":{\"title\":{\"text\":\"during-after delta\"}},\"colorscale\":[[0.0,\"rgb(103,0,31)\"],[0.1,\"rgb(178,24,43)\"],[0.2,\"rgb(214,96,77)\"],[0.3,\"rgb(244,165,130)\"],[0.4,\"rgb(253,219,199)\"],[0.5,\"rgb(247,247,247)\"],[0.6,\"rgb(209,229,240)\"],[0.7,\"rgb(146,197,222)\"],[0.8,\"rgb(67,147,195)\"],[0.9,\"rgb(33,102,172)\"],[1.0,\"rgb(5,48,97)\"]]},\"geo\":{\"domain\":{\"x\":[0.0,1.0],\"y\":[0.0,1.0]},\"fitbounds\":\"locations\",\"scope\":\"usa\",\"visible\":false},\"legend\":{\"tracegroupgap\":0},\"template\":{\"data\":{\"barpolar\":[{\"marker\":{\"line\":{\"color\":\"#E5ECF6\",\"width\":0.5},\"pattern\":{\"fillmode\":\"overlay\",\"size\":10,\"solidity\":0.2}},\"type\":\"barpolar\"}],\"bar\":[{\"error_x\":{\"color\":\"#2a3f5f\"},\"error_y\":{\"color\":\"#2a3f5f\"},\"marker\":{\"line\":{\"color\":\"#E5ECF6\",\"width\":0.5},\"pattern\":{\"fillmode\":\"overlay\",\"size\":10,\"solidity\":0.2}},\"type\":\"bar\"}],\"carpet\":[{\"aaxis\":{\"endlinecolor\":\"#2a3f5f\",\"gridcolor\":\"white\",\"linecolor\":\"white\",\"minorgridcolor\":\"white\",\"startlinecolor\":\"#2a3f5f\"},\"baxis\":{\"endlinecolor\":\"#2a3f5f\",\"gridcolor\":\"white\",\"linecolor\":\"white\",\"minorgridcolor\":\"white\",\"startlinecolor\":\"#2a3f5f\"},\"type\":\"carpet\"}],\"choropleth\":[{\"colorbar\":{\"outlinewidth\":0,\"ticks\":\"\"},\"type\":\"choropleth\"}],\"contourcarpet\":[{\"colorbar\":{\"outlinewidth\":0,\"ticks\":\"\"},\"type\":\"contourcarpet\"}],\"contour\":[{\"colorbar\":{\"outlinewidth\":0,\"ticks\":\"\"},\"colorscale\":[[0.0,\"#0d0887\"],[0.1111111111111111,\"#46039f\"],[0.2222222222222222,\"#7201a8\"],[0.3333333333333333,\"#9c179e\"],[0.4444444444444444,\"#bd3786\"],[0.5555555555555556,\"#d8576b\"],[0.6666666666666666,\"#ed7953\"],[0.7777777777777778,\"#fb9f3a\"],[0.8888888888888888,\"#fdca26\"],[1.0,\"#f0f921\"]],\"type\":\"contour\"}],\"heatmapgl\":[{\"colorbar\":{\"outlinewidth\":0,\"ticks\":\"\"},\"colorscale\":[[0.0,\"#0d0887\"],[0.1111111111111111,\"#46039f\"],[0.2222222222222222,\"#7201a8\"],[0.3333333333333333,\"#9c179e\"],[0.4444444444444444,\"#bd3786\"],[0.5555555555555556,\"#d8576b\"],[0.6666666666666666,\"#ed7953\"],[0.7777777777777778,\"#fb9f3a\"],[0.8888888888888888,\"#fdca26\"],[1.0,\"#f0f921\"]],\"type\":\"heatmapgl\"}],\"heatmap\":[{\"colorbar\":{\"outlinewidth\":0,\"ticks\":\"\"},\"colorscale\":[[0.0,\"#0d0887\"],[0.1111111111111111,\"#46039f\"],[0.2222222222222222,\"#7201a8\"],[0.3333333333333333,\"#9c179e\"],[0.4444444444444444,\"#bd3786\"],[0.5555555555555556,\"#d8576b\"],[0.6666666666666666,\"#ed7953\"],[0.7777777777777778,\"#fb9f3a\"],[0.8888888888888888,\"#fdca26\"],[1.0,\"#f0f921\"]],\"type\":\"heatmap\"}],\"histogram2dcontour\":[{\"colorbar\":{\"outlinewidth\":0,\"ticks\":\"\"},\"colorscale\":[[0.0,\"#0d0887\"],[0.1111111111111111,\"#46039f\"],[0.2222222222222222,\"#7201a8\"],[0.3333333333333333,\"#9c179e\"],[0.4444444444444444,\"#bd3786\"],[0.5555555555555556,\"#d8576b\"],[0.6666666666666666,\"#ed7953\"],[0.7777777777777778,\"#fb9f3a\"],[0.8888888888888888,\"#fdca26\"],[1.0,\"#f0f921\"]],\"type\":\"histogram2dcontour\"}],\"histogram2d\":[{\"colorbar\":{\"outlinewidth\":0,\"ticks\":\"\"},\"colorscale\":[[0.0,\"#0d0887\"],[0.1111111111111111,\"#46039f\"],[0.2222222222222222,\"#7201a8\"],[0.3333333333333333,\"#9c179e\"],[0.4444444444444444,\"#bd3786\"],[0.5555555555555556,\"#d8576b\"],[0.6666666666666666,\"#ed7953\"],[0.7777777777777778,\"#fb9f3a\"],[0.8888888888888888,\"#fdca26\"],[1.0,\"#f0f921\"]],\"type\":\"histogram2d\"}],\"histogram\":[{\"marker\":{\"pattern\":{\"fillmode\":\"overlay\",\"size\":10,\"solidity\":0.2}},\"type\":\"histogram\"}],\"mesh3d\":[{\"colorbar\":{\"outlinewidth\":0,\"ticks\":\"\"},\"type\":\"mesh3d\"}],\"parcoords\":[{\"line\":{\"colorbar\":{\"outlinewidth\":0,\"ticks\":\"\"}},\"type\":\"parcoords\"}],\"pie\":[{\"automargin\":true,\"type\":\"pie\"}],\"scatter3d\":[{\"line\":{\"colorbar\":{\"outlinewidth\":0,\"ticks\":\"\"}},\"marker\":{\"colorbar\":{\"outlinewidth\":0,\"ticks\":\"\"}},\"type\":\"scatter3d\"}],\"scattercarpet\":[{\"marker\":{\"colorbar\":{\"outlinewidth\":0,\"ticks\":\"\"}},\"type\":\"scattercarpet\"}],\"scattergeo\":[{\"marker\":{\"colorbar\":{\"outlinewidth\":0,\"ticks\":\"\"}},\"type\":\"scattergeo\"}],\"scattergl\":[{\"marker\":{\"colorbar\":{\"outlinewidth\":0,\"ticks\":\"\"}},\"type\":\"scattergl\"}],\"scattermapbox\":[{\"marker\":{\"colorbar\":{\"outlinewidth\":0,\"ticks\":\"\"}},\"type\":\"scattermapbox\"}],\"scatterpolargl\":[{\"marker\":{\"colorbar\":{\"outlinewidth\":0,\"ticks\":\"\"}},\"type\":\"scatterpolargl\"}],\"scatterpolar\":[{\"marker\":{\"colorbar\":{\"outlinewidth\":0,\"ticks\":\"\"}},\"type\":\"scatterpolar\"}],\"scatter\":[{\"fillpattern\":{\"fillmode\":\"overlay\",\"size\":10,\"solidity\":0.2},\"type\":\"scatter\"}],\"scatterternary\":[{\"marker\":{\"colorbar\":{\"outlinewidth\":0,\"ticks\":\"\"}},\"type\":\"scatterternary\"}],\"surface\":[{\"colorbar\":{\"outlinewidth\":0,\"ticks\":\"\"},\"colorscale\":[[0.0,\"#0d0887\"],[0.1111111111111111,\"#46039f\"],[0.2222222222222222,\"#7201a8\"],[0.3333333333333333,\"#9c179e\"],[0.4444444444444444,\"#bd3786\"],[0.5555555555555556,\"#d8576b\"],[0.6666666666666666,\"#ed7953\"],[0.7777777777777778,\"#fb9f3a\"],[0.8888888888888888,\"#fdca26\"],[1.0,\"#f0f921\"]],\"type\":\"surface\"}],\"table\":[{\"cells\":{\"fill\":{\"color\":\"#EBF0F8\"},\"line\":{\"color\":\"white\"}},\"header\":{\"fill\":{\"color\":\"#C8D4E3\"},\"line\":{\"color\":\"white\"}},\"type\":\"table\"}]},\"layout\":{\"annotationdefaults\":{\"arrowcolor\":\"#2a3f5f\",\"arrowhead\":0,\"arrowwidth\":1},\"autotypenumbers\":\"strict\",\"coloraxis\":{\"colorbar\":{\"outlinewidth\":0,\"ticks\":\"\"}},\"colorscale\":{\"diverging\":[[0,\"#8e0152\"],[0.1,\"#c51b7d\"],[0.2,\"#de77ae\"],[0.3,\"#f1b6da\"],[0.4,\"#fde0ef\"],[0.5,\"#f7f7f7\"],[0.6,\"#e6f5d0\"],[0.7,\"#b8e186\"],[0.8,\"#7fbc41\"],[0.9,\"#4d9221\"],[1,\"#276419\"]],\"sequential\":[[0.0,\"#0d0887\"],[0.1111111111111111,\"#46039f\"],[0.2222222222222222,\"#7201a8\"],[0.3333333333333333,\"#9c179e\"],[0.4444444444444444,\"#bd3786\"],[0.5555555555555556,\"#d8576b\"],[0.6666666666666666,\"#ed7953\"],[0.7777777777777778,\"#fb9f3a\"],[0.8888888888888888,\"#fdca26\"],[1.0,\"#f0f921\"]],\"sequentialminus\":[[0.0,\"#0d0887\"],[0.1111111111111111,\"#46039f\"],[0.2222222222222222,\"#7201a8\"],[0.3333333333333333,\"#9c179e\"],[0.4444444444444444,\"#bd3786\"],[0.5555555555555556,\"#d8576b\"],[0.6666666666666666,\"#ed7953\"],[0.7777777777777778,\"#fb9f3a\"],[0.8888888888888888,\"#fdca26\"],[1.0,\"#f0f921\"]]},\"colorway\":[\"#636efa\",\"#EF553B\",\"#00cc96\",\"#ab63fa\",\"#FFA15A\",\"#19d3f3\",\"#FF6692\",\"#B6E880\",\"#FF97FF\",\"#FECB52\"],\"font\":{\"color\":\"#2a3f5f\"},\"geo\":{\"bgcolor\":\"white\",\"lakecolor\":\"white\",\"landcolor\":\"#E5ECF6\",\"showlakes\":true,\"showland\":true,\"subunitcolor\":\"white\"},\"hoverlabel\":{\"align\":\"left\"},\"hovermode\":\"closest\",\"mapbox\":{\"style\":\"light\"},\"paper_bgcolor\":\"white\",\"plot_bgcolor\":\"#E5ECF6\",\"polar\":{\"angularaxis\":{\"gridcolor\":\"white\",\"linecolor\":\"white\",\"ticks\":\"\"},\"bgcolor\":\"#E5ECF6\",\"radialaxis\":{\"gridcolor\":\"white\",\"linecolor\":\"white\",\"ticks\":\"\"}},\"scene\":{\"xaxis\":{\"backgroundcolor\":\"#E5ECF6\",\"gridcolor\":\"white\",\"gridwidth\":2,\"linecolor\":\"white\",\"showbackground\":true,\"ticks\":\"\",\"zerolinecolor\":\"white\"},\"yaxis\":{\"backgroundcolor\":\"#E5ECF6\",\"gridcolor\":\"white\",\"gridwidth\":2,\"linecolor\":\"white\",\"showbackground\":true,\"ticks\":\"\",\"zerolinecolor\":\"white\"},\"zaxis\":{\"backgroundcolor\":\"#E5ECF6\",\"gridcolor\":\"white\",\"gridwidth\":2,\"linecolor\":\"white\",\"showbackground\":true,\"ticks\":\"\",\"zerolinecolor\":\"white\"}},\"shapedefaults\":{\"line\":{\"color\":\"#2a3f5f\"}},\"ternary\":{\"aaxis\":{\"gridcolor\":\"white\",\"linecolor\":\"white\",\"ticks\":\"\"},\"baxis\":{\"gridcolor\":\"white\",\"linecolor\":\"white\",\"ticks\":\"\"},\"bgcolor\":\"#E5ECF6\",\"caxis\":{\"gridcolor\":\"white\",\"linecolor\":\"white\",\"ticks\":\"\"}},\"title\":{\"x\":0.05},\"xaxis\":{\"automargin\":true,\"gridcolor\":\"white\",\"linecolor\":\"white\",\"ticks\":\"\",\"title\":{\"standoff\":15},\"zerolinecolor\":\"white\",\"zerolinewidth\":2},\"yaxis\":{\"automargin\":true,\"gridcolor\":\"white\",\"linecolor\":\"white\",\"ticks\":\"\",\"title\":{\"standoff\":15},\"zerolinecolor\":\"white\",\"zerolinewidth\":2}}},\"title\":{\"text\":\"Employment Change: During-to-Post Pandemic\"}},                        {\"responsive\": true}                    ).then(function(){\n",
       "                            \n",
       "var gd = document.getElementById('33944472-28cd-4d88-8419-73f15999cdb2');\n",
       "var x = new MutationObserver(function (mutations, observer) {{\n",
       "        var display = window.getComputedStyle(gd).display;\n",
       "        if (!display || display === 'none') {{\n",
       "            console.log([gd, 'removed!']);\n",
       "            Plotly.purge(gd);\n",
       "            observer.disconnect();\n",
       "        }}\n",
       "}});\n",
       "\n",
       "// Listen for the removal of the full notebook cells\n",
       "var notebookContainer = gd.closest('#notebook-container');\n",
       "if (notebookContainer) {{\n",
       "    x.observe(notebookContainer, {childList: true});\n",
       "}}\n",
       "\n",
       "// Listen for the clearing of the current output cell\n",
       "var outputEl = gd.closest('.output');\n",
       "if (outputEl) {{\n",
       "    x.observe(outputEl, {childList: true});\n",
       "}}\n",
       "\n",
       "                        })                };                });            </script>        </div>"
      ]
     },
     "metadata": {},
     "output_type": "display_data"
    }
   ],
   "source": [
    "fig = px.choropleth(target, locations='code', color='during-after delta',\n",
    "                    locationmode = 'USA-states',\n",
    "                    color_continuous_scale=px.colors.diverging.RdBu,\n",
    "                    color_continuous_midpoint=0,\n",
    "                    title='Employment Change: During-to-Post Pandemic')\n",
    "\n",
    "fig.update_geos(fitbounds=\"locations\", visible=False, scope=\"usa\")\n",
    "pyo.iplot(fig, filename='Av_employ_3')"
   ]
  },
  {
   "cell_type": "code",
   "execution_count": 18,
   "id": "5708c721",
   "metadata": {},
   "outputs": [
    {
     "data": {
      "image/png": "[encoded data removed]",
      "text/plain": [
       "<Figure size 2840x568 with 1 Axes>"
      ]
     },
     "metadata": {},
     "output_type": "display_data"
    }
   ],
   "source": [
    "years = [2018, 2019, 2020, 2021, 2022]\n",
    "f = plt.figure()\n",
    "\n",
    "f.set_figwidth(20)\n",
    "f.set_figheight(4)\n",
    "f.set_dpi(142)\n",
    "for r in region:\n",
    "    with plt.style.context('bmh'):\n",
    "        y_ticks = region_df.loc[region_df[\"Geo Name\"]== r , [\"change2018\", \"change2019\", \"change2020\", \"change2021\", \"change2022\"]].values[0]\n",
    "        plt.plot(years, y_ticks)\n",
    "        plt.xticks(years)\n",
    "        plt.legend(region)\n",
    "        plt.title('Regional Employment Change', fontsize=14)\n",
    "       "
   ]
  },
  {
   "cell_type": "code",
   "execution_count": null,
   "id": "29a9f754",
   "metadata": {},
   "outputs": [],
   "source": []
  },
  {
   "cell_type": "code",
   "execution_count": null,
   "id": "e8456d64",
   "metadata": {},
   "outputs": [],
   "source": []
  }
 ],
 "metadata": {
  "kernelspec": {
   "display_name": "Python 3 (ipykernel)",
   "language": "python",
   "name": "python3"
  },
  "language_info": {
   "codemirror_mode": {
    "name": "ipython",
    "version": 3
   },
   "file_extension": ".py",
   "mimetype": "text/x-python",
   "name": "python",
   "nbconvert_exporter": "python",
   "pygments_lexer": "ipython3",
   "version": "3.10.11"
  }
 },
 "nbformat": 4,
 "nbformat_minor": 5
}
